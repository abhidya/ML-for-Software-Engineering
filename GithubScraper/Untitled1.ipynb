{
 "cells": [
  {
   "cell_type": "code",
   "execution_count": 1,
   "metadata": {},
   "outputs": [
    {
     "name": "stderr",
     "output_type": "stream",
     "text": [
      "/home/manny/anaconda3/lib/python3.6/importlib/_bootstrap.py:219: RuntimeWarning: numpy.dtype size changed, may indicate binary incompatibility. Expected 96, got 88\n",
      "  return f(*args, **kwds)\n",
      "/home/manny/anaconda3/lib/python3.6/importlib/_bootstrap.py:219: RuntimeWarning: numpy.dtype size changed, may indicate binary incompatibility. Expected 96, got 88\n",
      "  return f(*args, **kwds)\n"
     ]
    }
   ],
   "source": [
    "import pandas as pd\n",
    "df = pd.read_csv('githubrepos.csv.gz')"
   ]
  },
  {
   "cell_type": "code",
   "execution_count": 2,
   "metadata": {},
   "outputs": [
    {
     "name": "stdout",
     "output_type": "stream",
     "text": [
      "       JavaSyntaxError  code_col  code_line  \\\n",
      "0                False       9.0       17.0   \n",
      "1                False       NaN        NaN   \n",
      "2                False       NaN        NaN   \n",
      "3                False       9.0       17.0   \n",
      "4                False       NaN        NaN   \n",
      "5                False       NaN        NaN   \n",
      "6                False       9.0       17.0   \n",
      "7                False       NaN        NaN   \n",
      "8                False       NaN        NaN   \n",
      "9                False       9.0       17.0   \n",
      "10               False       NaN        NaN   \n",
      "11               False       NaN        NaN   \n",
      "12               False       9.0       17.0   \n",
      "13               False       NaN        NaN   \n",
      "14               False       NaN        NaN   \n",
      "15               False       9.0       17.0   \n",
      "16               False       NaN        NaN   \n",
      "17               False       NaN        NaN   \n",
      "18               False       9.0       17.0   \n",
      "19               False       NaN        NaN   \n",
      "20               False       NaN        NaN   \n",
      "21               False       9.0       17.0   \n",
      "22               False       NaN        NaN   \n",
      "23               False       NaN        NaN   \n",
      "24               False       9.0       17.0   \n",
      "25               False       NaN        NaN   \n",
      "26               False       NaN        NaN   \n",
      "27               False       9.0       17.0   \n",
      "28               False       NaN        NaN   \n",
      "29               False       NaN        NaN   \n",
      "...                ...       ...        ...   \n",
      "91263            False       NaN        NaN   \n",
      "91264            False       NaN        NaN   \n",
      "91265            False       NaN        NaN   \n",
      "91266            False       NaN        NaN   \n",
      "91267            False       NaN        NaN   \n",
      "91268            False       NaN        NaN   \n",
      "91269            False       NaN        NaN   \n",
      "91270            False       NaN        NaN   \n",
      "91271            False       NaN        NaN   \n",
      "91272            False       NaN        NaN   \n",
      "91273            False       NaN        NaN   \n",
      "91274            False       NaN        NaN   \n",
      "91275            False       NaN        NaN   \n",
      "91276            False       NaN        NaN   \n",
      "91277            False       NaN        NaN   \n",
      "91278            False       NaN        NaN   \n",
      "91279            False       9.0       16.0   \n",
      "91280            False       NaN        NaN   \n",
      "91281            False       NaN        NaN   \n",
      "91282            False       9.0       16.0   \n",
      "91283            False       NaN        NaN   \n",
      "91284            False       NaN        NaN   \n",
      "91285            False       NaN        NaN   \n",
      "91286            False       NaN        NaN   \n",
      "91287            False       NaN        NaN   \n",
      "91288            False       NaN        NaN   \n",
      "91289            False       NaN        NaN   \n",
      "91290            False       NaN        NaN   \n",
      "91291            False       NaN        NaN   \n",
      "91292            False       NaN        NaN   \n",
      "\n",
      "                                                    code  \\\n",
      "0      from builtins import property as _property, tu...   \n",
      "1                                                    NaN   \n",
      "2                                                    NaN   \n",
      "3      from builtins import property as _property, tu...   \n",
      "4                                                    NaN   \n",
      "5                                                    NaN   \n",
      "6      from builtins import property as _property, tu...   \n",
      "7                                                    NaN   \n",
      "8                                                    NaN   \n",
      "9      from builtins import property as _property, tu...   \n",
      "10                                                   NaN   \n",
      "11                                                   NaN   \n",
      "12     from builtins import property as _property, tu...   \n",
      "13                                                   NaN   \n",
      "14                                                   NaN   \n",
      "15     from builtins import property as _property, tu...   \n",
      "16                                                   NaN   \n",
      "17                                                   NaN   \n",
      "18     from builtins import property as _property, tu...   \n",
      "19                                                   NaN   \n",
      "20                                                   NaN   \n",
      "21     from builtins import property as _property, tu...   \n",
      "22                                                   NaN   \n",
      "23                                                   NaN   \n",
      "24     from builtins import property as _property, tu...   \n",
      "25                                                   NaN   \n",
      "26                                                   NaN   \n",
      "27     from builtins import property as _property, tu...   \n",
      "28                                                   NaN   \n",
      "29                                                   NaN   \n",
      "...                                                  ...   \n",
      "91263                                                NaN   \n",
      "91264                                                NaN   \n",
      "91265                                                NaN   \n",
      "91266                                                NaN   \n",
      "91267                                                NaN   \n",
      "91268                                                NaN   \n",
      "91269                                                NaN   \n",
      "91270                                                NaN   \n",
      "91271                                                NaN   \n",
      "91272                                                NaN   \n",
      "91273                                                NaN   \n",
      "91274                                                NaN   \n",
      "91275                                                NaN   \n",
      "91276                                                NaN   \n",
      "91277                                                NaN   \n",
      "91278                                                NaN   \n",
      "91279  from builtins import property as _property, tu...   \n",
      "91280                                                NaN   \n",
      "91281                                                NaN   \n",
      "91282  from builtins import property as _property, tu...   \n",
      "91283                                                NaN   \n",
      "91284                                                NaN   \n",
      "91285                                                NaN   \n",
      "91286                                                NaN   \n",
      "91287                                                NaN   \n",
      "91288                                                NaN   \n",
      "91289                                                NaN   \n",
      "91290                                                NaN   \n",
      "91291                                                NaN   \n",
      "91292                                                NaN   \n",
      "\n",
      "                                                 astcode database_source  \n",
      "0      PackageDeclaration(annotations=None, documenta...     githubrepos  \n",
      "1      [Import(path=lombok.AllArgsConstructor, static...     githubrepos  \n",
      "2      [ClassDeclaration(annotations=[Annotation(elem...     githubrepos  \n",
      "3      PackageDeclaration(annotations=None, documenta...     githubrepos  \n",
      "4      [Import(path=lombok.NonNull, static=False, wil...     githubrepos  \n",
      "5      [ClassDeclaration(annotations=[Annotation(elem...     githubrepos  \n",
      "6      PackageDeclaration(annotations=None, documenta...     githubrepos  \n",
      "7      [Import(path=lombok.val, static=False, wildcar...     githubrepos  \n",
      "8      [ClassDeclaration(annotations=[], body=[FieldD...     githubrepos  \n",
      "9      PackageDeclaration(annotations=None, documenta...     githubrepos  \n",
      "10     [Import(path=org.deeplearning4j.text.tokenizat...     githubrepos  \n",
      "11     [ClassDeclaration(annotations=[], body=[FieldD...     githubrepos  \n",
      "12     PackageDeclaration(annotations=None, documenta...     githubrepos  \n",
      "13     [Import(path=lombok.extern.slf4j.Slf4j, static...     githubrepos  \n",
      "14     [ClassDeclaration(annotations=[Annotation(elem...     githubrepos  \n",
      "15     PackageDeclaration(annotations=None, documenta...     githubrepos  \n",
      "16     [Import(path=lombok.AllArgsConstructor, static...     githubrepos  \n",
      "17     [ClassDeclaration(annotations=[Annotation(elem...     githubrepos  \n",
      "18     PackageDeclaration(annotations=None, documenta...     githubrepos  \n",
      "19     [Import(path=lombok.AllArgsConstructor, static...     githubrepos  \n",
      "20     [ClassDeclaration(annotations=[Annotation(elem...     githubrepos  \n",
      "21     PackageDeclaration(annotations=None, documenta...     githubrepos  \n",
      "22     [Import(path=org.deeplearning4j.models.word2ve...     githubrepos  \n",
      "23     [ClassDeclaration(annotations=[Annotation(elem...     githubrepos  \n",
      "24     PackageDeclaration(annotations=None, documenta...     githubrepos  \n",
      "25     [Import(path=lombok.AllArgsConstructor, static...     githubrepos  \n",
      "26     [ClassDeclaration(annotations=[Annotation(elem...     githubrepos  \n",
      "27     PackageDeclaration(annotations=None, documenta...     githubrepos  \n",
      "28     [Import(path=lombok.AllArgsConstructor, static...     githubrepos  \n",
      "29     [ClassDeclaration(annotations=[Annotation(elem...     githubrepos  \n",
      "...                                                  ...             ...  \n",
      "91263  [Import(path=org.greenrobot.eventbus.EventBusB...     githubrepos  \n",
      "91264  [ClassDeclaration(annotations=[], body=[Method...     githubrepos  \n",
      "91265  [Import(path=com.google.common.annotations.Gwt...     githubrepos  \n",
      "91266  [ClassDeclaration(annotations=[Annotation(elem...     githubrepos  \n",
      "91267  [Import(path=org.junit.Test, static=False, wil...     githubrepos  \n",
      "91268  [ClassDeclaration(annotations=[Annotation(elem...     githubrepos  \n",
      "91269  [Import(path=org.greenrobot.eventbus.EventBusI...     githubrepos  \n",
      "91270  [ClassDeclaration(annotations=[], body=[Method...     githubrepos  \n",
      "91271  [Import(path=org.slf4j.Logger, static=False, w...     githubrepos  \n",
      "91272  [ClassDeclaration(annotations=[], body=[FieldD...     githubrepos  \n",
      "91273  [Import(path=android.content.res.Resources, st...     githubrepos  \n",
      "91274  [ClassDeclaration(annotations=[], body=[FieldD...     githubrepos  \n",
      "91275  [ClassDeclaration(annotations=[], body=[ClassD...     githubrepos  \n",
      "91276  [Import(path=org.junit.Assert, static=False, w...     githubrepos  \n",
      "91277  [ClassDeclaration(annotations=[], body=[Method...     githubrepos  \n",
      "91278  [ClassDeclaration(annotations=[], body=[FieldD...     githubrepos  \n",
      "91279  PackageDeclaration(annotations=None, documenta...     githubrepos  \n",
      "91280  [Import(path=android.util.Log, static=False, w...     githubrepos  \n",
      "91281  [ClassDeclaration(annotations=[], body=[FieldD...     githubrepos  \n",
      "91282  PackageDeclaration(annotations=None, documenta...     githubrepos  \n",
      "91283  [Import(path=org.greenrobot.eventbus.Subscribe...     githubrepos  \n",
      "91284  [ClassDeclaration(annotations=[Annotation(elem...     githubrepos  \n",
      "91285  [Import(path=org.greenrobot.eventbus.EventBus,...     githubrepos  \n",
      "91286  [ClassDeclaration(annotations=[], body=[Method...     githubrepos  \n",
      "91287  [Import(path=android.os.Looper, static=False, ...     githubrepos  \n",
      "91288  [ClassDeclaration(annotations=[], body=[Method...     githubrepos  \n",
      "91289  [Import(path=org.greenrobot.eventbus.EventBusM...     githubrepos  \n",
      "91290  [ClassDeclaration(annotations=[], body=[Method...     githubrepos  \n",
      "91291  [Import(path=android.os.Handler, static=False,...     githubrepos  \n",
      "91292  [ClassDeclaration(annotations=[], body=[FieldD...     githubrepos  \n",
      "\n",
      "[91293 rows x 6 columns]\n"
     ]
    }
   ],
   "source": [
    "print(df)"
   ]
  },
  {
   "cell_type": "code",
   "execution_count": 3,
   "metadata": {},
   "outputs": [
    {
     "name": "stdout",
     "output_type": "stream",
     "text": [
      "(91293, 6)\n"
     ]
    }
   ],
   "source": [
    "print(df.shape)"
   ]
  },
  {
   "cell_type": "code",
   "execution_count": 4,
   "metadata": {},
   "outputs": [],
   "source": [
    "df = df.drop_duplicates()"
   ]
  },
  {
   "cell_type": "code",
   "execution_count": 5,
   "metadata": {},
   "outputs": [
    {
     "name": "stdout",
     "output_type": "stream",
     "text": [
      "(91293, 6)\n"
     ]
    }
   ],
   "source": [
    "print(df.shape)"
   ]
  },
  {
   "cell_type": "code",
   "execution_count": 6,
   "metadata": {},
   "outputs": [
    {
     "data": {
      "text/plain": [
       "False    91293\n",
       "Name: JavaSyntaxError, dtype: int64"
      ]
     },
     "execution_count": 6,
     "metadata": {},
     "output_type": "execute_result"
    }
   ],
   "source": [
    "df.JavaSyntaxError.value_counts()"
   ]
  },
  {
   "cell_type": "code",
   "execution_count": 7,
   "metadata": {},
   "outputs": [],
   "source": [
    "df.to_csv('githubrepos.csv', index=False)"
   ]
  },
  {
   "cell_type": "code",
   "execution_count": 8,
   "metadata": {},
   "outputs": [],
   "source": [
    "df = pd.read_csv('githubrepos.csv.gz')"
   ]
  },
  {
   "cell_type": "code",
   "execution_count": 9,
   "metadata": {},
   "outputs": [
    {
     "name": "stdout",
     "output_type": "stream",
     "text": [
      "(91293, 6)\n"
     ]
    }
   ],
   "source": [
    "print(df.shape)"
   ]
  },
  {
   "cell_type": "code",
   "execution_count": 10,
   "metadata": {},
   "outputs": [],
   "source": [
    "df = df.drop_duplicates(subset='astcode')"
   ]
  },
  {
   "cell_type": "code",
   "execution_count": 11,
   "metadata": {},
   "outputs": [
    {
     "name": "stdout",
     "output_type": "stream",
     "text": [
      "(91293, 6)\n"
     ]
    }
   ],
   "source": [
    "print(df.shape)"
   ]
  },
  {
   "cell_type": "code",
   "execution_count": 12,
   "metadata": {},
   "outputs": [],
   "source": [
    "df.to_csv('githubrepos.csv', index=False)"
   ]
  },
  {
   "cell_type": "code",
   "execution_count": 13,
   "metadata": {},
   "outputs": [
    {
     "name": "stdout",
     "output_type": "stream",
     "text": [
      "['JavaSyntaxError' 'code_col' 'code_line' 'code' 'astcode'\n",
      " 'database_source']\n"
     ]
    }
   ],
   "source": [
    "print(df.columns.values)"
   ]
  },
  {
   "cell_type": "code",
   "execution_count": 14,
   "metadata": {},
   "outputs": [
    {
     "name": "stdout",
     "output_type": "stream",
     "text": [
      "githubrepos    91293\n",
      "Name: database_source, dtype: int64\n"
     ]
    }
   ],
   "source": [
    "print(df.database_source.value_counts() )"
   ]
  },
  {
   "cell_type": "code",
   "execution_count": 15,
   "metadata": {},
   "outputs": [],
   "source": [
    "df.to_csv('githubrepos.csv', index=False)"
   ]
  },
  {
   "cell_type": "code",
   "execution_count": null,
   "metadata": {},
   "outputs": [],
   "source": []
  }
 ],
 "metadata": {
  "kernelspec": {
   "display_name": "Python 3",
   "language": "python",
   "name": "python3"
  },
  "language_info": {
   "codemirror_mode": {
    "name": "ipython",
    "version": 3
   },
   "file_extension": ".py",
   "mimetype": "text/x-python",
   "name": "python",
   "nbconvert_exporter": "python",
   "pygments_lexer": "ipython3",
   "version": "3.6.5"
  }
 },
 "nbformat": 4,
 "nbformat_minor": 2
}
