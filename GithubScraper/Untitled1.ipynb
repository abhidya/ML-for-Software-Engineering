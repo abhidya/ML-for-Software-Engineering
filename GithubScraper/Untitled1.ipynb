{
 "cells": [
  {
   "cell_type": "code",
   "execution_count": 1,
   "metadata": {},
   "outputs": [
    {
     "name": "stderr",
     "output_type": "stream",
     "text": [
      "/home/manny/anaconda3/lib/python3.6/importlib/_bootstrap.py:219: RuntimeWarning: numpy.dtype size changed, may indicate binary incompatibility. Expected 96, got 88\n",
      "  return f(*args, **kwds)\n",
      "/home/manny/anaconda3/lib/python3.6/importlib/_bootstrap.py:219: RuntimeWarning: numpy.dtype size changed, may indicate binary incompatibility. Expected 96, got 88\n",
      "  return f(*args, **kwds)\n"
     ]
    }
   ],
   "source": [
    "import pandas as pd\n",
    "df = pd.read_csv('githubrepos.csv.gz')"
   ]
  },
  {
   "cell_type": "code",
   "execution_count": 2,
   "metadata": {},
   "outputs": [
    {
     "name": "stdout",
     "output_type": "stream",
     "text": [
      "        JavaSyntaxError  code_col  code_line  \\\n",
      "0                 False       9.0       17.0   \n",
      "1                 False       NaN        NaN   \n",
      "2                 False       NaN        NaN   \n",
      "3                 False       9.0       17.0   \n",
      "4                 False       NaN        NaN   \n",
      "5                 False       NaN        NaN   \n",
      "6                 False       9.0       17.0   \n",
      "7                 False       NaN        NaN   \n",
      "8                 False       NaN        NaN   \n",
      "9                 False       9.0       17.0   \n",
      "10                False       NaN        NaN   \n",
      "11                False       NaN        NaN   \n",
      "12                False       9.0       17.0   \n",
      "13                False       NaN        NaN   \n",
      "14                False       NaN        NaN   \n",
      "15                False       9.0       17.0   \n",
      "16                False       NaN        NaN   \n",
      "17                False       NaN        NaN   \n",
      "18                False       9.0       17.0   \n",
      "19                False       NaN        NaN   \n",
      "20                False       NaN        NaN   \n",
      "21                False       9.0       17.0   \n",
      "22                False       NaN        NaN   \n",
      "23                False       NaN        NaN   \n",
      "24                False       9.0       17.0   \n",
      "25                False       NaN        NaN   \n",
      "26                False       NaN        NaN   \n",
      "27                False       9.0       17.0   \n",
      "28                False       NaN        NaN   \n",
      "29                False       NaN        NaN   \n",
      "...                 ...       ...        ...   \n",
      "157764            False       9.0       17.0   \n",
      "157765            False       NaN        NaN   \n",
      "157766            False       NaN        NaN   \n",
      "157767            False       9.0       17.0   \n",
      "157768            False       NaN        NaN   \n",
      "157769            False       NaN        NaN   \n",
      "157770            False       9.0       16.0   \n",
      "157771            False       NaN        NaN   \n",
      "157772            False       NaN        NaN   \n",
      "157773            False       9.0        1.0   \n",
      "157774            False       NaN        NaN   \n",
      "157775            False       NaN        NaN   \n",
      "157776            False       9.0       16.0   \n",
      "157777            False       NaN        NaN   \n",
      "157778            False       NaN        NaN   \n",
      "157779            False       9.0       16.0   \n",
      "157780            False       NaN        NaN   \n",
      "157781            False       NaN        NaN   \n",
      "157782            False       9.0       17.0   \n",
      "157783            False       NaN        NaN   \n",
      "157784            False       NaN        NaN   \n",
      "157785            False       9.0       16.0   \n",
      "157786            False       NaN        NaN   \n",
      "157787            False       NaN        NaN   \n",
      "157788            False       9.0       17.0   \n",
      "157789            False       NaN        NaN   \n",
      "157790            False       NaN        NaN   \n",
      "157791            False       9.0        1.0   \n",
      "157792            False       NaN        NaN   \n",
      "157793            False       NaN        NaN   \n",
      "\n",
      "                                                     code  \\\n",
      "0       from builtins import property as _property, tu...   \n",
      "1                                                     NaN   \n",
      "2                                                     NaN   \n",
      "3       from builtins import property as _property, tu...   \n",
      "4                                                     NaN   \n",
      "5                                                     NaN   \n",
      "6       from builtins import property as _property, tu...   \n",
      "7                                                     NaN   \n",
      "8                                                     NaN   \n",
      "9       from builtins import property as _property, tu...   \n",
      "10                                                    NaN   \n",
      "11                                                    NaN   \n",
      "12      from builtins import property as _property, tu...   \n",
      "13                                                    NaN   \n",
      "14                                                    NaN   \n",
      "15      from builtins import property as _property, tu...   \n",
      "16                                                    NaN   \n",
      "17                                                    NaN   \n",
      "18      from builtins import property as _property, tu...   \n",
      "19                                                    NaN   \n",
      "20                                                    NaN   \n",
      "21      from builtins import property as _property, tu...   \n",
      "22                                                    NaN   \n",
      "23                                                    NaN   \n",
      "24      from builtins import property as _property, tu...   \n",
      "25                                                    NaN   \n",
      "26                                                    NaN   \n",
      "27      from builtins import property as _property, tu...   \n",
      "28                                                    NaN   \n",
      "29                                                    NaN   \n",
      "...                                                   ...   \n",
      "157764  from builtins import property as _property, tu...   \n",
      "157765                                                NaN   \n",
      "157766                                                NaN   \n",
      "157767  from builtins import property as _property, tu...   \n",
      "157768                                                NaN   \n",
      "157769                                                NaN   \n",
      "157770  from builtins import property as _property, tu...   \n",
      "157771                                                NaN   \n",
      "157772                                                NaN   \n",
      "157773  from builtins import property as _property, tu...   \n",
      "157774                                                NaN   \n",
      "157775                                                NaN   \n",
      "157776  from builtins import property as _property, tu...   \n",
      "157777                                                NaN   \n",
      "157778                                                NaN   \n",
      "157779  from builtins import property as _property, tu...   \n",
      "157780                                                NaN   \n",
      "157781                                                NaN   \n",
      "157782  from builtins import property as _property, tu...   \n",
      "157783                                                NaN   \n",
      "157784                                                NaN   \n",
      "157785  from builtins import property as _property, tu...   \n",
      "157786                                                NaN   \n",
      "157787                                                NaN   \n",
      "157788  from builtins import property as _property, tu...   \n",
      "157789                                                NaN   \n",
      "157790                                                NaN   \n",
      "157791  from builtins import property as _property, tu...   \n",
      "157792                                                NaN   \n",
      "157793                                                NaN   \n",
      "\n",
      "                                                  astcode database_source  \n",
      "0       PackageDeclaration(annotations=None, documenta...     githubrepos  \n",
      "1       [Import(path=lombok.AllArgsConstructor, static...     githubrepos  \n",
      "2       [ClassDeclaration(annotations=[Annotation(elem...     githubrepos  \n",
      "3       PackageDeclaration(annotations=None, documenta...     githubrepos  \n",
      "4       [Import(path=lombok.NonNull, static=False, wil...     githubrepos  \n",
      "5       [ClassDeclaration(annotations=[Annotation(elem...     githubrepos  \n",
      "6       PackageDeclaration(annotations=None, documenta...     githubrepos  \n",
      "7       [Import(path=lombok.val, static=False, wildcar...     githubrepos  \n",
      "8       [ClassDeclaration(annotations=[], body=[FieldD...     githubrepos  \n",
      "9       PackageDeclaration(annotations=None, documenta...     githubrepos  \n",
      "10      [Import(path=org.deeplearning4j.text.tokenizat...     githubrepos  \n",
      "11      [ClassDeclaration(annotations=[], body=[FieldD...     githubrepos  \n",
      "12      PackageDeclaration(annotations=None, documenta...     githubrepos  \n",
      "13      [Import(path=lombok.extern.slf4j.Slf4j, static...     githubrepos  \n",
      "14      [ClassDeclaration(annotations=[Annotation(elem...     githubrepos  \n",
      "15      PackageDeclaration(annotations=None, documenta...     githubrepos  \n",
      "16      [Import(path=lombok.AllArgsConstructor, static...     githubrepos  \n",
      "17      [ClassDeclaration(annotations=[Annotation(elem...     githubrepos  \n",
      "18      PackageDeclaration(annotations=None, documenta...     githubrepos  \n",
      "19      [Import(path=lombok.AllArgsConstructor, static...     githubrepos  \n",
      "20      [ClassDeclaration(annotations=[Annotation(elem...     githubrepos  \n",
      "21      PackageDeclaration(annotations=None, documenta...     githubrepos  \n",
      "22      [Import(path=org.deeplearning4j.models.word2ve...     githubrepos  \n",
      "23      [ClassDeclaration(annotations=[Annotation(elem...     githubrepos  \n",
      "24      PackageDeclaration(annotations=None, documenta...     githubrepos  \n",
      "25      [Import(path=lombok.AllArgsConstructor, static...     githubrepos  \n",
      "26      [ClassDeclaration(annotations=[Annotation(elem...     githubrepos  \n",
      "27      PackageDeclaration(annotations=None, documenta...     githubrepos  \n",
      "28      [Import(path=lombok.AllArgsConstructor, static...     githubrepos  \n",
      "29      [ClassDeclaration(annotations=[Annotation(elem...     githubrepos  \n",
      "...                                                   ...             ...  \n",
      "157764  PackageDeclaration(annotations=None, documenta...     githubrepos  \n",
      "157765  [Import(path=android.content.res.Resources, st...     githubrepos  \n",
      "157766  [ClassDeclaration(annotations=[], body=[FieldD...     githubrepos  \n",
      "157767  PackageDeclaration(annotations=None, documenta...     githubrepos  \n",
      "157768  [Import(path=org.junit.Test, static=False, wil...     githubrepos  \n",
      "157769  [ClassDeclaration(annotations=[], body=[ClassD...     githubrepos  \n",
      "157770  PackageDeclaration(annotations=None, documenta...     githubrepos  \n",
      "157771  [Import(path=org.junit.Assert, static=False, w...     githubrepos  \n",
      "157772  [ClassDeclaration(annotations=[], body=[Method...     githubrepos  \n",
      "157773  PackageDeclaration(annotations=None, documenta...     githubrepos  \n",
      "157774  [Import(path=java.util.ArrayList, static=False...     githubrepos  \n",
      "157775  [ClassDeclaration(annotations=[], body=[FieldD...     githubrepos  \n",
      "157776  PackageDeclaration(annotations=None, documenta...     githubrepos  \n",
      "157777  [Import(path=android.util.Log, static=False, w...     githubrepos  \n",
      "157778  [ClassDeclaration(annotations=[], body=[FieldD...     githubrepos  \n",
      "157779  PackageDeclaration(annotations=None, documenta...     githubrepos  \n",
      "157780  [Import(path=org.greenrobot.eventbus.Subscribe...     githubrepos  \n",
      "157781  [ClassDeclaration(annotations=[Annotation(elem...     githubrepos  \n",
      "157782  PackageDeclaration(annotations=None, documenta...     githubrepos  \n",
      "157783  [Import(path=org.greenrobot.eventbus.EventBus,...     githubrepos  \n",
      "157784  [ClassDeclaration(annotations=[], body=[Method...     githubrepos  \n",
      "157785  PackageDeclaration(annotations=None, documenta...     githubrepos  \n",
      "157786  [Import(path=android.os.Looper, static=False, ...     githubrepos  \n",
      "157787  [ClassDeclaration(annotations=[], body=[Method...     githubrepos  \n",
      "157788  PackageDeclaration(annotations=None, documenta...     githubrepos  \n",
      "157789  [Import(path=org.greenrobot.eventbus.EventBusM...     githubrepos  \n",
      "157790  [ClassDeclaration(annotations=[], body=[Method...     githubrepos  \n",
      "157791  PackageDeclaration(annotations=None, documenta...     githubrepos  \n",
      "157792  [Import(path=android.os.Handler, static=False,...     githubrepos  \n",
      "157793  [ClassDeclaration(annotations=[], body=[FieldD...     githubrepos  \n",
      "\n",
      "[157794 rows x 6 columns]\n"
     ]
    }
   ],
   "source": [
    "print(df)"
   ]
  },
  {
   "cell_type": "code",
   "execution_count": 8,
   "metadata": {},
   "outputs": [
    {
     "name": "stdout",
     "output_type": "stream",
     "text": [
      "(157794, 6)\n"
     ]
    }
   ],
   "source": [
    "print(df.shape)"
   ]
  },
  {
   "cell_type": "code",
   "execution_count": 9,
   "metadata": {},
   "outputs": [],
   "source": [
    "df = df.drop_duplicates()"
   ]
  },
  {
   "cell_type": "code",
   "execution_count": 10,
   "metadata": {},
   "outputs": [
    {
     "name": "stdout",
     "output_type": "stream",
     "text": [
      "(92425, 6)\n"
     ]
    }
   ],
   "source": [
    "print(df.shape)"
   ]
  },
  {
   "cell_type": "code",
   "execution_count": 11,
   "metadata": {},
   "outputs": [
    {
     "data": {
      "text/plain": [
       "False    92425\n",
       "Name: JavaSyntaxError, dtype: int64"
      ]
     },
     "execution_count": 11,
     "metadata": {},
     "output_type": "execute_result"
    }
   ],
   "source": [
    "df.JavaSyntaxError.value_counts()"
   ]
  },
  {
   "cell_type": "code",
   "execution_count": 13,
   "metadata": {},
   "outputs": [],
   "source": [
    "df.to_csv('githubrepos.csv', index=False)"
   ]
  },
  {
   "cell_type": "code",
   "execution_count": 14,
   "metadata": {},
   "outputs": [],
   "source": [
    "df = pd.read_csv('githubrepos.csv.gz')"
   ]
  },
  {
   "cell_type": "code",
   "execution_count": 15,
   "metadata": {},
   "outputs": [
    {
     "name": "stdout",
     "output_type": "stream",
     "text": [
      "(92425, 6)\n"
     ]
    }
   ],
   "source": [
    "print(df.shape)"
   ]
  },
  {
   "cell_type": "code",
   "execution_count": 16,
   "metadata": {},
   "outputs": [],
   "source": [
    "df = df.drop_duplicates(subset='astcode')"
   ]
  },
  {
   "cell_type": "code",
   "execution_count": 17,
   "metadata": {},
   "outputs": [
    {
     "name": "stdout",
     "output_type": "stream",
     "text": [
      "(91293, 6)\n"
     ]
    }
   ],
   "source": [
    "print(df.shape)"
   ]
  },
  {
   "cell_type": "code",
   "execution_count": 18,
   "metadata": {},
   "outputs": [],
   "source": [
    "df.to_csv('githubrepos.csv', index=False)"
   ]
  },
  {
   "cell_type": "code",
   "execution_count": 19,
   "metadata": {},
   "outputs": [
    {
     "name": "stdout",
     "output_type": "stream",
     "text": [
      "['JavaSyntaxError' 'code_col' 'code_line' 'code' 'astcode'\n",
      " 'database_source']\n"
     ]
    }
   ],
   "source": [
    "print(df.columns.values)"
   ]
  },
  {
   "cell_type": "code",
   "execution_count": 20,
   "metadata": {},
   "outputs": [
    {
     "name": "stdout",
     "output_type": "stream",
     "text": [
      "githubrepos    91293\n",
      "Name: database_source, dtype: int64\n"
     ]
    }
   ],
   "source": [
    "print(df.database_source.value_counts() )"
   ]
  },
  {
   "cell_type": "code",
   "execution_count": null,
   "metadata": {},
   "outputs": [],
   "source": []
  }
 ],
 "metadata": {
  "kernelspec": {
   "display_name": "Python 3",
   "language": "python",
   "name": "python3"
  },
  "language_info": {
   "codemirror_mode": {
    "name": "ipython",
    "version": 3
   },
   "file_extension": ".py",
   "mimetype": "text/x-python",
   "name": "python",
   "nbconvert_exporter": "python",
   "pygments_lexer": "ipython3",
   "version": "3.6.5"
  }
 },
 "nbformat": 4,
 "nbformat_minor": 2
}
