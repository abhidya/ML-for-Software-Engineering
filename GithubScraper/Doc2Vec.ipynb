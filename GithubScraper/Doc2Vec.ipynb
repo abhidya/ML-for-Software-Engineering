{
 "cells": [
  {
   "cell_type": "code",
   "execution_count": 2,
   "metadata": {},
   "outputs": [],
   "source": [
    "import pandas as pd\n",
    "df = pd.DataFrame.from_csv(\"promise_gzip.gz\")"
   ]
  },
  {
   "cell_type": "code",
   "execution_count": 3,
   "metadata": {},
   "outputs": [
    {
     "data": {
      "text/html": [
       "<div>\n",
       "<style scoped>\n",
       "    .dataframe tbody tr th:only-of-type {\n",
       "        vertical-align: middle;\n",
       "    }\n",
       "\n",
       "    .dataframe tbody tr th {\n",
       "        vertical-align: top;\n",
       "    }\n",
       "\n",
       "    .dataframe thead th {\n",
       "        text-align: right;\n",
       "    }\n",
       "</style>\n",
       "<table border=\"1\" class=\"dataframe\">\n",
       "  <thead>\n",
       "    <tr style=\"text-align: right;\">\n",
       "      <th></th>\n",
       "      <th>JavaSyntaxError</th>\n",
       "      <th>Source_code</th>\n",
       "      <th>code_col</th>\n",
       "      <th>code_line</th>\n",
       "      <th>code</th>\n",
       "      <th>astcode</th>\n",
       "      <th>label</th>\n",
       "      <th>repoSource</th>\n",
       "      <th>add</th>\n",
       "      <th>allow</th>\n",
       "      <th>...</th>\n",
       "      <th>new</th>\n",
       "      <th>npe</th>\n",
       "      <th>refactor</th>\n",
       "      <th>remov</th>\n",
       "      <th>report</th>\n",
       "      <th>set</th>\n",
       "      <th>support</th>\n",
       "      <th>test</th>\n",
       "      <th>use</th>\n",
       "      <th>database_source</th>\n",
       "    </tr>\n",
       "  </thead>\n",
       "  <tbody>\n",
       "    <tr>\n",
       "      <th>0</th>\n",
       "      <td>True</td>\n",
       "      <td>/**\\n * Copyright 2015 Netflix, Inc.\\n * \\n * ...</td>\n",
       "      <td>NaN</td>\n",
       "      <td>NaN</td>\n",
       "      <td>/**\\n * Copyright 2015 Netflix, Inc.\\n * \\n * ...</td>\n",
       "      <td>NaN</td>\n",
       "      <td>p</td>\n",
       "      <td>ReactiveX-RxJava</td>\n",
       "      <td>1</td>\n",
       "      <td>0</td>\n",
       "      <td>...</td>\n",
       "      <td>0</td>\n",
       "      <td>0</td>\n",
       "      <td>0</td>\n",
       "      <td>0</td>\n",
       "      <td>0</td>\n",
       "      <td>0</td>\n",
       "      <td>0</td>\n",
       "      <td>0</td>\n",
       "      <td>0</td>\n",
       "      <td>Promise</td>\n",
       "    </tr>\n",
       "  </tbody>\n",
       "</table>\n",
       "<p>1 rows × 29 columns</p>\n",
       "</div>"
      ],
      "text/plain": [
       "   JavaSyntaxError                                        Source_code  \\\n",
       "0             True  /**\\n * Copyright 2015 Netflix, Inc.\\n * \\n * ...   \n",
       "\n",
       "   code_col  code_line                                               code  \\\n",
       "0       NaN        NaN  /**\\n * Copyright 2015 Netflix, Inc.\\n * \\n * ...   \n",
       "\n",
       "  astcode label        repoSource  add  allow       ...         new  npe  \\\n",
       "0     NaN     p  ReactiveX-RxJava    1      0       ...           0    0   \n",
       "\n",
       "   refactor  remov  report  set  support  test  use  database_source  \n",
       "0         0      0       0    0        0     0    0          Promise  \n",
       "\n",
       "[1 rows x 29 columns]"
      ]
     },
     "execution_count": 3,
     "metadata": {},
     "output_type": "execute_result"
    }
   ],
   "source": [
    "df.head(1)"
   ]
  },
  {
   "cell_type": "code",
   "execution_count": 4,
   "metadata": {},
   "outputs": [
    {
     "data": {
      "text/plain": [
       "JavaSyntaxError      0\n",
       "Source_code          0\n",
       "code_col           542\n",
       "code_line          542\n",
       "code               230\n",
       "astcode            312\n",
       "label                0\n",
       "repoSource           0\n",
       "add                  0\n",
       "allow                0\n",
       "bug                  0\n",
       "chang                0\n",
       "error                0\n",
       "fail                 0\n",
       "fix                  0\n",
       "implement            0\n",
       "improv               0\n",
       "issu                 0\n",
       "method               0\n",
       "new                  0\n",
       "npe                  0\n",
       "refactor             0\n",
       "remov                0\n",
       "report               0\n",
       "set                  0\n",
       "support              0\n",
       "test                 0\n",
       "use                  0\n",
       "database_source      0\n",
       "dtype: int64"
      ]
     },
     "execution_count": 4,
     "metadata": {},
     "output_type": "execute_result"
    }
   ],
   "source": [
    "df.isna().sum()"
   ]
  },
  {
   "cell_type": "code",
   "execution_count": 5,
   "metadata": {},
   "outputs": [],
   "source": [
    "df = df.dropna(subset=['astcode'])"
   ]
  },
  {
   "cell_type": "code",
   "execution_count": 6,
   "metadata": {},
   "outputs": [
    {
     "data": {
      "text/plain": [
       "JavaSyntaxError      0\n",
       "Source_code          0\n",
       "code_col           230\n",
       "code_line          230\n",
       "code               230\n",
       "astcode              0\n",
       "label                0\n",
       "repoSource           0\n",
       "add                  0\n",
       "allow                0\n",
       "bug                  0\n",
       "chang                0\n",
       "error                0\n",
       "fail                 0\n",
       "fix                  0\n",
       "implement            0\n",
       "improv               0\n",
       "issu                 0\n",
       "method               0\n",
       "new                  0\n",
       "npe                  0\n",
       "refactor             0\n",
       "remov                0\n",
       "report               0\n",
       "set                  0\n",
       "support              0\n",
       "test                 0\n",
       "use                  0\n",
       "database_source      0\n",
       "dtype: int64"
      ]
     },
     "execution_count": 6,
     "metadata": {},
     "output_type": "execute_result"
    }
   ],
   "source": [
    "df.isna().sum()"
   ]
  },
  {
   "cell_type": "code",
   "execution_count": 6,
   "metadata": {},
   "outputs": [
    {
     "name": "stdout",
     "output_type": "stream",
     "text": [
      "label\n"
     ]
    },
    {
     "data": {
      "application/vnd.jupyter.widget-view+json": {
       "model_id": "831c36d83b2b473c9b688cb05d8d98dd",
       "version_major": 2,
       "version_minor": 0
      },
      "text/plain": [
       "HBox(children=(IntProgress(value=0, max=18), HTML(value='')))"
      ]
     },
     "metadata": {},
     "output_type": "display_data"
    },
    {
     "name": "stdout",
     "output_type": "stream",
     "text": [
      "\n"
     ]
    },
    {
     "data": {
      "application/vnd.jupyter.widget-view+json": {
       "model_id": "a113ff18b2f74f9fb5294ca058decd98",
       "version_major": 2,
       "version_minor": 0
      },
      "text/plain": [
       "HBox(children=(IntProgress(value=0, max=18), HTML(value='')))"
      ]
     },
     "metadata": {},
     "output_type": "display_data"
    },
    {
     "name": "stdout",
     "output_type": "stream",
     "text": [
      "\n"
     ]
    },
    {
     "data": {
      "application/vnd.jupyter.widget-view+json": {
       "model_id": "fd4fd1792ff0415d86e85214d6d193ab",
       "version_major": 2,
       "version_minor": 0
      },
      "text/plain": [
       "HBox(children=(IntProgress(value=0, max=18), HTML(value='')))"
      ]
     },
     "metadata": {},
     "output_type": "display_data"
    },
    {
     "name": "stdout",
     "output_type": "stream",
     "text": [
      "\n"
     ]
    },
    {
     "data": {
      "application/vnd.jupyter.widget-view+json": {
       "model_id": "ac807f3c7169487fa51a671140d62e3b",
       "version_major": 2,
       "version_minor": 0
      },
      "text/plain": [
       "HBox(children=(IntProgress(value=0, max=18), HTML(value='')))"
      ]
     },
     "metadata": {},
     "output_type": "display_data"
    },
    {
     "name": "stdout",
     "output_type": "stream",
     "text": [
      "\n"
     ]
    },
    {
     "data": {
      "application/vnd.jupyter.widget-view+json": {
       "model_id": "b8756cb6e8b1478abaf186a340e818b4",
       "version_major": 2,
       "version_minor": 0
      },
      "text/plain": [
       "HBox(children=(IntProgress(value=0, max=18), HTML(value='')))"
      ]
     },
     "metadata": {},
     "output_type": "display_data"
    },
    {
     "name": "stdout",
     "output_type": "stream",
     "text": [
      "\n"
     ]
    },
    {
     "data": {
      "application/vnd.jupyter.widget-view+json": {
       "model_id": "9b1a7b0f19154ba09ace8b65afe84401",
       "version_major": 2,
       "version_minor": 0
      },
      "text/plain": [
       "HBox(children=(IntProgress(value=0, max=18), HTML(value='')))"
      ]
     },
     "metadata": {},
     "output_type": "display_data"
    },
    {
     "name": "stdout",
     "output_type": "stream",
     "text": [
      "\n"
     ]
    },
    {
     "data": {
      "application/vnd.jupyter.widget-view+json": {
       "model_id": "82b573f3cd3145e6a038d8dfa4f48451",
       "version_major": 2,
       "version_minor": 0
      },
      "text/plain": [
       "HBox(children=(IntProgress(value=0, max=18), HTML(value='')))"
      ]
     },
     "metadata": {},
     "output_type": "display_data"
    },
    {
     "name": "stdout",
     "output_type": "stream",
     "text": [
      "\n"
     ]
    },
    {
     "data": {
      "application/vnd.jupyter.widget-view+json": {
       "model_id": "34cd7c7cdfe04d3280c37e45237e84c1",
       "version_major": 2,
       "version_minor": 0
      },
      "text/plain": [
       "HBox(children=(IntProgress(value=0, max=18), HTML(value='')))"
      ]
     },
     "metadata": {},
     "output_type": "display_data"
    },
    {
     "name": "stdout",
     "output_type": "stream",
     "text": [
      "\n"
     ]
    },
    {
     "data": {
      "application/vnd.jupyter.widget-view+json": {
       "model_id": "8a82559993bd4ea8bc40723713747cc0",
       "version_major": 2,
       "version_minor": 0
      },
      "text/plain": [
       "HBox(children=(IntProgress(value=0, max=18), HTML(value='')))"
      ]
     },
     "metadata": {},
     "output_type": "display_data"
    },
    {
     "name": "stdout",
     "output_type": "stream",
     "text": [
      "\n"
     ]
    },
    {
     "data": {
      "application/vnd.jupyter.widget-view+json": {
       "model_id": "98feff6efb2c4263b120c6630a6bf0f7",
       "version_major": 2,
       "version_minor": 0
      },
      "text/plain": [
       "HBox(children=(IntProgress(value=0, max=18), HTML(value='')))"
      ]
     },
     "metadata": {},
     "output_type": "display_data"
    },
    {
     "name": "stdout",
     "output_type": "stream",
     "text": [
      "\n",
      "Accuracy Score:  0.6222222222222222\n",
      "Label Score:  [0.5898934398934399, 0.5676767676767678, 0.6124220300421672]\n"
     ]
    },
    {
     "data": {
      "text/plain": [
       "[[0.5898934398934399, 0.5676767676767678, 0.6124220300421672],\n",
       " 0.7222222222222222]"
      ]
     },
     "execution_count": 6,
     "metadata": {},
     "output_type": "execute_result"
    }
   ],
   "source": [
    "from pd_doc2vec import doc2vec\n",
    "\n",
    "x = doc2vec(df,'astcode', ['label'], build=True )\n",
    "x.score(verbose=True)"
   ]
  },
  {
   "cell_type": "code",
   "execution_count": 62,
   "metadata": {},
   "outputs": [
    {
     "data": {
      "application/vnd.jupyter.widget-view+json": {
       "model_id": "fa702804313643f784beb538d71277b8",
       "version_major": 2,
       "version_minor": 0
      },
      "text/plain": [
       "HBox(children=(IntProgress(value=0, max=500), HTML(value='')))"
      ]
     },
     "metadata": {},
     "output_type": "display_data"
    },
    {
     "name": "stdout",
     "output_type": "stream",
     "text": [
      "0.3739130434782609 [0.42285714 0.32608696 0.39330544]\n",
      "0.37971014492753624 [0.375      0.35205993 0.41064639]\n",
      "0.3884057971014493 [0.36879433 0.32846715 0.45818182]\n",
      "0.39710144927536234 [0.53571429 0.32472325 0.38247012]\n",
      "0.4 [0.41290323 0.34875445 0.4488189 ]\n",
      "0.4028985507246377 [0.41333333 0.33823529 0.46268657]\n",
      "0.4057971014492754 [0.42105263 0.33707865 0.46494465]\n",
      "0.42028985507246375 [0.51282051 0.35164835 0.43678161]\n",
      "0.4318840579710145 [0.41891892 0.33469388 0.51851852]\n",
      "0.43768115942028984 [0.4875     0.34893617 0.48135593]\n",
      "0.4492753623188406 [0.47852761 0.35684647 0.51048951]\n",
      "\n",
      "<built-in function max> 397\n"
     ]
    }
   ],
   "source": [
    "from tqdm._tqdm_notebook import tqdm_notebook as tqdm\n",
    "from sklearn.metrics import accuracy_score\n",
    "from sklearn.metrics import f1_score\n",
    "\n",
    "models = []\n",
    "thismax = 0\n",
    "which_one=0\n",
    "\n",
    "for i in tqdm(range(500)):\n",
    "    # (\"c\" for corrective, \"p\" for perfective, \"a\" for adaptive\n",
    "    from pd_doc2vec import doc2vec\n",
    "    \n",
    "    x = doc2vec(df,'astcode', ['label'], build=True )\n",
    "    x.verbose = True\n",
    "    models.append(x)\n",
    "    df['result'] = x.predict(df['astcode'])\n",
    "\n",
    "\n",
    "    labelaccuracy = f1_score(df['result'], df['label'], average=None)\n",
    "\n",
    "    accuracy = accuracy_score(df['result'], df['label'])\n",
    "    if accuracy>thismax:\n",
    "        thismax = accuracy\n",
    "        which_one = i\n",
    "        print(accuracy, labelaccuracy)\n",
    "    \n",
    "print( max,which_one )"
   ]
  },
  {
   "cell_type": "code",
   "execution_count": 63,
   "metadata": {},
   "outputs": [
    {
     "name": "stdout",
     "output_type": "stream",
     "text": [
      "<pd_doc2vec.doc2vec object at 0x7fe2a779c128>\n"
     ]
    }
   ],
   "source": [
    "x = models[397]\n",
    "print(x)"
   ]
  },
  {
   "cell_type": "code",
   "execution_count": 31,
   "metadata": {},
   "outputs": [],
   "source": [
    "models = []"
   ]
  },
  {
   "cell_type": "code",
   "execution_count": 33,
   "metadata": {},
   "outputs": [
    {
     "name": "stdout",
     "output_type": "stream",
     "text": [
      "<pd_doc2vec.doc2vec object at 0x7fe2c4388128>\n"
     ]
    }
   ],
   "source": [
    "print(x)"
   ]
  },
  {
   "cell_type": "code",
   "execution_count": 64,
   "metadata": {},
   "outputs": [],
   "source": [
    "try:\n",
    "    import cPickle as pickle\n",
    "except ModuleNotFoundError:\n",
    "    import pickle\n",
    "\n",
    "\n",
    "with open('model.pkl', 'wb') as output:\n",
    "    pickle.dump(x, output, pickle.HIGHEST_PROTOCOL)"
   ]
  },
  {
   "cell_type": "code",
   "execution_count": 35,
   "metadata": {},
   "outputs": [
    {
     "name": "stdout",
     "output_type": "stream",
     "text": [
      "['JavaSyntaxError' 'Source_code' 'code_col' 'code_line' 'code' 'astcode'\n",
      " 'label' 'repoSource' 'add' 'allow' 'bug' 'chang' 'error' 'fail' 'fix'\n",
      " 'implement' 'improv' 'issu' 'method' 'new' 'npe' 'refactor' 'remov'\n",
      " 'report' 'set' 'support' 'test' 'use' 'database_source' 'result']\n"
     ]
    }
   ],
   "source": [
    "print(df.columns.values)"
   ]
  },
  {
   "cell_type": "code",
   "execution_count": 56,
   "metadata": {},
   "outputs": [],
   "source": [
    "codes_to_try = []\n",
    "for index, row in df.iterrows():\n",
    "    if row['label'] == row['result']:\n",
    "        codes_to_try.append(row['Source_code'])\n"
   ]
  },
  {
   "cell_type": "code",
   "execution_count": 59,
   "metadata": {},
   "outputs": [],
   "source": [
    "def get_results(data):\n",
    "    message = []\n",
    "    code ={}\n",
    "    import javalang\n",
    "    import pandas as pd\n",
    "    from pd_doc2vec import doc2vec\n",
    "    try:\n",
    "        import cPickle as pickle\n",
    "    except ModuleNotFoundError:\n",
    "        import pickle\n",
    "\n",
    "    with open('model.pkl', 'rb') as input:\n",
    "        x = pickle.load(input)\n",
    "    try:\n",
    "        tree = javalang.parse.parse(data)\n",
    "        for codeblock in tree.children:\n",
    "            result = x.predict_text_main(data)\n",
    "            if result == \"c\":\n",
    "                bug = \"corrective\"\n",
    "            if result == \"p\":\n",
    "                bug = \"perfective\"\n",
    "            if result == \"a\":\n",
    "                bug = \"adaptive\"\n",
    "\n",
    "            try:\n",
    "                line =   bug + \" bug in CodeBlock at Line \" + str(codeblock._position.line) + \" Column \" + str(codeblock._position.column) + \" \\n\"\n",
    "            except (AttributeError):\n",
    "                pass\n",
    "             #   line =  \"Bug in CodeBlock at Line UNKNOWN  Column UNKOWN \\n\"\n",
    "            message.append(line)\n",
    "\n",
    "\n",
    "    except (javalang.parser.JavaSyntaxError, KeyError, javalang.tokenizer.LexerError) as e:\n",
    "        message.append(str(e))\n",
    "    code['msg'] = message\n",
    "    print(message)\n"
   ]
  },
  {
   "cell_type": "code",
   "execution_count": 1,
   "metadata": {
    "scrolled": false
   },
   "outputs": [
    {
     "ename": "NameError",
     "evalue": "name 'codes_to_try' is not defined",
     "output_type": "error",
     "traceback": [
      "\u001b[0;31m---------------------------------------------------------------------------\u001b[0m",
      "\u001b[0;31mNameError\u001b[0m                                 Traceback (most recent call last)",
      "\u001b[0;32m<ipython-input-1-4293c4b2c53c>\u001b[0m in \u001b[0;36m<module>\u001b[0;34m()\u001b[0m\n\u001b[0;32m----> 1\u001b[0;31m \u001b[0;32mfor\u001b[0m \u001b[0mi\u001b[0m \u001b[0;32min\u001b[0m \u001b[0mcodes_to_try\u001b[0m\u001b[0;34m:\u001b[0m\u001b[0;34m\u001b[0m\u001b[0m\n\u001b[0m\u001b[1;32m      2\u001b[0m     \u001b[0mprint\u001b[0m\u001b[0;34m(\u001b[0m\u001b[0mi\u001b[0m\u001b[0;34m)\u001b[0m\u001b[0;34m\u001b[0m\u001b[0m\n\u001b[1;32m      3\u001b[0m     \u001b[0mget_results\u001b[0m\u001b[0;34m(\u001b[0m\u001b[0mi\u001b[0m\u001b[0;34m)\u001b[0m\u001b[0;34m\u001b[0m\u001b[0m\n",
      "\u001b[0;31mNameError\u001b[0m: name 'codes_to_try' is not defined"
     ]
    }
   ],
   "source": [
    "for i in codes_to_try:\n",
    "    print(i)\n",
    "    get_results(i)"
   ]
  },
  {
   "cell_type": "code",
   "execution_count": null,
   "metadata": {},
   "outputs": [],
   "source": []
  }
 ],
 "metadata": {
  "kernelspec": {
   "display_name": "Python 3",
   "language": "python",
   "name": "python3"
  },
  "language_info": {
   "codemirror_mode": {
    "name": "ipython",
    "version": 3
   },
   "file_extension": ".py",
   "mimetype": "text/x-python",
   "name": "python",
   "nbconvert_exporter": "python",
   "pygments_lexer": "ipython3",
   "version": "3.6.5"
  }
 },
 "nbformat": 4,
 "nbformat_minor": 2
}
