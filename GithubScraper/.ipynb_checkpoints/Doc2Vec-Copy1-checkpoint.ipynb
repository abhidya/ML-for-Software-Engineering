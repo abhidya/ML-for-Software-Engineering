{
 "cells": [
  {
   "cell_type": "code",
   "execution_count": 1,
   "metadata": {},
   "outputs": [
    {
     "name": "stderr",
     "output_type": "stream",
     "text": [
      "/home/manny/anaconda3/lib/python3.6/importlib/_bootstrap.py:219: RuntimeWarning: numpy.dtype size changed, may indicate binary incompatibility. Expected 96, got 88\n",
      "  return f(*args, **kwds)\n",
      "/home/manny/anaconda3/lib/python3.6/importlib/_bootstrap.py:219: RuntimeWarning: numpy.dtype size changed, may indicate binary incompatibility. Expected 96, got 88\n",
      "  return f(*args, **kwds)\n",
      "/home/manny/anaconda3/lib/python3.6/site-packages/ipykernel_launcher.py:2: FutureWarning: from_csv is deprecated. Please use read_csv(...) instead. Note that some of the default arguments are different, so please refer to the documentation for from_csv when changing your function calls\n",
      "  \n"
     ]
    }
   ],
   "source": [
    "import pandas as pd\n",
    "df = pd.DataFrame.from_csv(\"promise_gzip.gz\")\n",
    "df_nonBug = pd.read_csv('githubrepos.csv.gz')"
   ]
  },
  {
   "cell_type": "code",
   "execution_count": 2,
   "metadata": {},
   "outputs": [],
   "source": [
    "df_nonBug['label']  = \"Correct\""
   ]
  },
  {
   "cell_type": "code",
   "execution_count": 3,
   "metadata": {
    "scrolled": true
   },
   "outputs": [],
   "source": [
    "df = df.dropna(subset=['astcode'])\n",
    "df_nonBug = df_nonBug.dropna(subset=['astcode'])"
   ]
  },
  {
   "cell_type": "code",
   "execution_count": 6,
   "metadata": {},
   "outputs": [],
   "source": [
    "df = df[['astcode', 'label']]\n",
    "df_nonBug = df_nonBug[['astcode', 'label']]\n",
    "\n",
    "frames = []\n",
    "frames.append(df)\n",
    "frames.append(df_nonBug)\n",
    "train = pd.concat(frames)\n",
    "frames = []\n",
    "\n",
    "from pd_doc2vec import doc2vec\n",
    "\n",
    "x = doc2vec(train,'astcode', ['label'], build=True )\n",
    "x.verbose=True"
   ]
  },
  {
   "cell_type": "code",
   "execution_count": 7,
   "metadata": {},
   "outputs": [],
   "source": [
    "df = pd.DataFrame.from_csv(\"promise_gzip.gz\")\n",
    "df = df.dropna(subset=['astcode'])\n"
   ]
  },
  {
   "cell_type": "code",
   "execution_count": 14,
   "metadata": {},
   "outputs": [
    {
     "name": "stdout",
     "output_type": "stream",
     "text": [
      "JavaSyntaxError      0\n",
      "Source_code          0\n",
      "code_col           230\n",
      "code_line          230\n",
      "code               230\n",
      "astcode              0\n",
      "label                0\n",
      "repoSource           0\n",
      "add                  0\n",
      "allow                0\n",
      "bug                  0\n",
      "chang                0\n",
      "error                0\n",
      "fail                 0\n",
      "fix                  0\n",
      "implement            0\n",
      "improv               0\n",
      "issu                 0\n",
      "method               0\n",
      "new                  0\n",
      "npe                  0\n",
      "refactor             0\n",
      "remov                0\n",
      "report               0\n",
      "set                  0\n",
      "support              0\n",
      "test                 0\n",
      "use                  0\n",
      "database_source      0\n",
      "result               0\n",
      "dtype: int64\n"
     ]
    }
   ],
   "source": [
    "print(df.isna().sum())\n",
    "df = df.dropna(subset=['astcode'])\n"
   ]
  },
  {
   "cell_type": "code",
   "execution_count": 16,
   "metadata": {},
   "outputs": [
    {
     "data": {
      "application/vnd.jupyter.widget-view+json": {
       "model_id": "c7766ba7d65845dca318269d64e37178",
       "version_major": 2,
       "version_minor": 0
      },
      "text/plain": [
       "HBox(children=(IntProgress(value=0), HTML(value='')))"
      ]
     },
     "metadata": {},
     "output_type": "display_data"
    },
    {
     "name": "stdout",
     "output_type": "stream",
     "text": [
      "0.34782608695652173 [0.33548387 0.33935018 0.36434109]\n",
      "0.3710144927536232 [0.33333333 0.30275229 0.43670886]\n",
      "0.37681159420289856 [0.44047619 0.34375    0.36842105]\n",
      "0.3855072463768116 [0.44827586 0.35019455 0.37837838]\n",
      "0.3884057971014493 [0.34782609 0.33333333 0.45423729]\n",
      "0.4144927536231884 [0.42236025 0.34538153 0.47142857]\n",
      "\n",
      "<built-in function max> 95\n"
     ]
    }
   ],
   "source": [
    "from tqdm._tqdm_notebook import tqdm_notebook as tqdm\n",
    "from sklearn.metrics import accuracy_score\n",
    "from sklearn.metrics import f1_score\n",
    "\n",
    "models = []\n",
    "thismax = 0\n",
    "which_one=0\n",
    "\n",
    "for i in tqdm(range(100)):\n",
    "    # (\"c\" for corrective, \"p\" for perfective, \"a\" for adaptive\n",
    "    from pd_doc2vec import doc2vec\n",
    "    \n",
    "    x = doc2vec(df,'astcode', ['label'], build=True )\n",
    "    x.verbose = True\n",
    "    models.append(x)\n",
    "    df['result'] = x.predict(df['astcode'])\n",
    "\n",
    "\n",
    "    labelaccuracy = f1_score(df['result'], df['label'], average=None)\n",
    "\n",
    "    accuracy = accuracy_score(df['result'], df['label'])\n",
    "    if accuracy>thismax:\n",
    "        thismax = accuracy\n",
    "        which_one = i\n",
    "        print(accuracy, labelaccuracy)\n",
    "    \n",
    "print( max,which_one )"
   ]
  },
  {
   "cell_type": "code",
   "execution_count": 17,
   "metadata": {},
   "outputs": [
    {
     "name": "stdout",
     "output_type": "stream",
     "text": [
      "<pd_doc2vec.doc2vec object at 0x7f6fd4722128>\n"
     ]
    }
   ],
   "source": [
    "x = models[95]\n",
    "print(x)"
   ]
  },
  {
   "cell_type": "code",
   "execution_count": 31,
   "metadata": {},
   "outputs": [],
   "source": [
    "models = []"
   ]
  },
  {
   "cell_type": "code",
   "execution_count": 33,
   "metadata": {},
   "outputs": [
    {
     "name": "stdout",
     "output_type": "stream",
     "text": [
      "<pd_doc2vec.doc2vec object at 0x7fe2c4388128>\n"
     ]
    }
   ],
   "source": [
    "print(x)"
   ]
  },
  {
   "cell_type": "code",
   "execution_count": 18,
   "metadata": {},
   "outputs": [],
   "source": [
    "try:\n",
    "    import cPickle as pickle\n",
    "except ModuleNotFoundError:\n",
    "    import pickle\n",
    "\n",
    "\n",
    "with open('model.pkl', 'wb') as output:\n",
    "    pickle.dump(x, output, pickle.HIGHEST_PROTOCOL)"
   ]
  },
  {
   "cell_type": "code",
   "execution_count": 19,
   "metadata": {},
   "outputs": [
    {
     "name": "stdout",
     "output_type": "stream",
     "text": [
      "['JavaSyntaxError' 'Source_code' 'code_col' 'code_line' 'code' 'astcode'\n",
      " 'label' 'repoSource' 'add' 'allow' 'bug' 'chang' 'error' 'fail' 'fix'\n",
      " 'implement' 'improv' 'issu' 'method' 'new' 'npe' 'refactor' 'remov'\n",
      " 'report' 'set' 'support' 'test' 'use' 'database_source' 'result']\n"
     ]
    }
   ],
   "source": [
    "print(df.columns.values)"
   ]
  },
  {
   "cell_type": "code",
   "execution_count": 20,
   "metadata": {},
   "outputs": [],
   "source": [
    "codes_to_try = []\n",
    "for index, row in df.iterrows():\n",
    "    if row['label'] == row['result']:\n",
    "        codes_to_try.append(row['Source_code'])\n"
   ]
  },
  {
   "cell_type": "code",
   "execution_count": 21,
   "metadata": {},
   "outputs": [],
   "source": [
    "def get_results(data):\n",
    "    message = []\n",
    "    code ={}\n",
    "    import javalang\n",
    "    import pandas as pd\n",
    "    from pd_doc2vec import doc2vec\n",
    "    try:\n",
    "        import cPickle as pickle\n",
    "    except ModuleNotFoundError:\n",
    "        import pickle\n",
    "\n",
    "    with open('model.pkl', 'rb') as input:\n",
    "        x = pickle.load(input)\n",
    "    try:\n",
    "        tree = javalang.parse.parse(data)\n",
    "        for codeblock in tree.children:\n",
    "            result = x.predict_text_main(data)\n",
    "            if result == \"c\":\n",
    "                bug = \"corrective\"\n",
    "            elif result == \"p\":\n",
    "                bug = \"perfective\"\n",
    "            elif result == \"a\":\n",
    "                bug = \"adaptive\"\n",
    "            else:\n",
    "                bug = result\n",
    "            try:\n",
    "                line =   bug + \" bug in CodeBlock at Line \" + str(codeblock._position.line) + \" Column \" + str(codeblock._position.column) + \" \\n\"\n",
    "            except (AttributeError):\n",
    "                pass\n",
    "             #   line =  \"Bug in CodeBlock at Line UNKNOWN  Column UNKOWN \\n\"\n",
    "            message.append(line)\n",
    "\n",
    "\n",
    "    except (javalang.parser.JavaSyntaxError, KeyError, javalang.tokenizer.LexerError) as e:\n",
    "        message.append(str(e))\n",
    "    code['msg'] = message\n",
    "    print(message)\n"
   ]
  },
  {
   "cell_type": "code",
   "execution_count": 60,
   "metadata": {
    "scrolled": false
   },
   "outputs": [
    {
     "name": "stdout",
     "output_type": "stream",
     "text": [
      "['adaptive bug in CodeBlock at Line 16 Column 9 \\n', 'adaptive bug in CodeBlock at Line 16 Column 9 \\n', 'adaptive bug in CodeBlock at Line 16 Column 9 \\n']\n",
      "['adaptive bug in CodeBlock at Line 16 Column 9 \\n', 'adaptive bug in CodeBlock at Line 16 Column 9 \\n', 'adaptive bug in CodeBlock at Line 16 Column 9 \\n']\n",
      "['adaptive bug in CodeBlock at Line 16 Column 9 \\n', 'adaptive bug in CodeBlock at Line 16 Column 9 \\n', 'adaptive bug in CodeBlock at Line 16 Column 9 \\n']\n",
      "['adaptive bug in CodeBlock at Line 16 Column 9 \\n', 'adaptive bug in CodeBlock at Line 16 Column 9 \\n', 'adaptive bug in CodeBlock at Line 16 Column 9 \\n']\n",
      "['adaptive bug in CodeBlock at Line 16 Column 9 \\n', 'adaptive bug in CodeBlock at Line 16 Column 9 \\n', 'adaptive bug in CodeBlock at Line 16 Column 9 \\n']\n",
      "['corrective bug in CodeBlock at Line 16 Column 9 \\n', 'corrective bug in CodeBlock at Line 16 Column 9 \\n', 'corrective bug in CodeBlock at Line 16 Column 9 \\n']\n",
      "['corrective bug in CodeBlock at Line 16 Column 9 \\n', 'corrective bug in CodeBlock at Line 16 Column 9 \\n', 'corrective bug in CodeBlock at Line 16 Column 9 \\n']\n",
      "['corrective bug in CodeBlock at Line 1 Column 9 \\n', 'corrective bug in CodeBlock at Line 1 Column 9 \\n', 'corrective bug in CodeBlock at Line 1 Column 9 \\n']\n",
      "['corrective bug in CodeBlock at Line 1 Column 9 \\n', 'corrective bug in CodeBlock at Line 1 Column 9 \\n', 'corrective bug in CodeBlock at Line 1 Column 9 \\n']\n",
      "['corrective bug in CodeBlock at Line 16 Column 9 \\n', 'corrective bug in CodeBlock at Line 16 Column 9 \\n', 'corrective bug in CodeBlock at Line 16 Column 9 \\n']\n",
      "['corrective bug in CodeBlock at Line 16 Column 9 \\n', 'corrective bug in CodeBlock at Line 16 Column 9 \\n', 'corrective bug in CodeBlock at Line 16 Column 9 \\n']\n",
      "['corrective bug in CodeBlock at Line 16 Column 9 \\n', 'corrective bug in CodeBlock at Line 16 Column 9 \\n', 'corrective bug in CodeBlock at Line 16 Column 9 \\n']\n",
      "['corrective bug in CodeBlock at Line 16 Column 9 \\n', 'corrective bug in CodeBlock at Line 16 Column 9 \\n', 'corrective bug in CodeBlock at Line 16 Column 9 \\n']\n",
      "['corrective bug in CodeBlock at Line 16 Column 9 \\n', 'corrective bug in CodeBlock at Line 16 Column 9 \\n', 'corrective bug in CodeBlock at Line 16 Column 9 \\n']\n",
      "['corrective bug in CodeBlock at Line 16 Column 9 \\n', 'corrective bug in CodeBlock at Line 16 Column 9 \\n', 'corrective bug in CodeBlock at Line 16 Column 9 \\n']\n",
      "['corrective bug in CodeBlock at Line 16 Column 9 \\n', 'corrective bug in CodeBlock at Line 16 Column 9 \\n', 'corrective bug in CodeBlock at Line 16 Column 9 \\n']\n",
      "['corrective bug in CodeBlock at Line 16 Column 9 \\n', 'corrective bug in CodeBlock at Line 16 Column 9 \\n', 'corrective bug in CodeBlock at Line 16 Column 9 \\n']\n",
      "['corrective bug in CodeBlock at Line 16 Column 9 \\n', 'corrective bug in CodeBlock at Line 16 Column 9 \\n', 'corrective bug in CodeBlock at Line 16 Column 9 \\n']\n",
      "['corrective bug in CodeBlock at Line 16 Column 9 \\n', 'corrective bug in CodeBlock at Line 16 Column 9 \\n', 'corrective bug in CodeBlock at Line 16 Column 9 \\n']\n",
      "['corrective bug in CodeBlock at Line 16 Column 9 \\n', 'corrective bug in CodeBlock at Line 16 Column 9 \\n', 'corrective bug in CodeBlock at Line 16 Column 9 \\n']\n",
      "['corrective bug in CodeBlock at Line 16 Column 9 \\n', 'corrective bug in CodeBlock at Line 16 Column 9 \\n', 'corrective bug in CodeBlock at Line 16 Column 9 \\n']\n",
      "['corrective bug in CodeBlock at Line 16 Column 9 \\n', 'corrective bug in CodeBlock at Line 16 Column 9 \\n', 'corrective bug in CodeBlock at Line 16 Column 9 \\n']\n",
      "['corrective bug in CodeBlock at Line 16 Column 9 \\n', 'corrective bug in CodeBlock at Line 16 Column 9 \\n', 'corrective bug in CodeBlock at Line 16 Column 9 \\n']\n",
      "['corrective bug in CodeBlock at Line 16 Column 9 \\n', 'corrective bug in CodeBlock at Line 16 Column 9 \\n', 'corrective bug in CodeBlock at Line 16 Column 9 \\n']\n",
      "['corrective bug in CodeBlock at Line 16 Column 9 \\n', 'corrective bug in CodeBlock at Line 16 Column 9 \\n', 'corrective bug in CodeBlock at Line 16 Column 9 \\n']\n",
      "['corrective bug in CodeBlock at Line 15 Column 12 \\n', 'corrective bug in CodeBlock at Line 15 Column 12 \\n', 'corrective bug in CodeBlock at Line 15 Column 12 \\n']\n",
      "['corrective bug in CodeBlock at Line 1 Column 9 \\n', 'corrective bug in CodeBlock at Line 1 Column 9 \\n', 'corrective bug in CodeBlock at Line 1 Column 9 \\n']\n",
      "['corrective bug in CodeBlock at Line 1 Column 9 \\n', 'corrective bug in CodeBlock at Line 1 Column 9 \\n', 'corrective bug in CodeBlock at Line 1 Column 9 \\n']\n",
      "['corrective bug in CodeBlock at Line 1 Column 9 \\n', 'corrective bug in CodeBlock at Line 1 Column 9 \\n', 'corrective bug in CodeBlock at Line 1 Column 9 \\n']\n",
      "['corrective bug in CodeBlock at Line 16 Column 9 \\n', 'corrective bug in CodeBlock at Line 16 Column 9 \\n', 'corrective bug in CodeBlock at Line 16 Column 9 \\n']\n",
      "['corrective bug in CodeBlock at Line 16 Column 9 \\n', 'corrective bug in CodeBlock at Line 16 Column 9 \\n', 'corrective bug in CodeBlock at Line 16 Column 9 \\n']\n",
      "['corrective bug in CodeBlock at Line 16 Column 9 \\n', 'corrective bug in CodeBlock at Line 16 Column 9 \\n', 'corrective bug in CodeBlock at Line 16 Column 9 \\n']\n",
      "['corrective bug in CodeBlock at Line 16 Column 9 \\n', 'corrective bug in CodeBlock at Line 16 Column 9 \\n', 'corrective bug in CodeBlock at Line 16 Column 9 \\n']\n",
      "['corrective bug in CodeBlock at Line 16 Column 9 \\n', 'corrective bug in CodeBlock at Line 16 Column 9 \\n', 'corrective bug in CodeBlock at Line 16 Column 9 \\n']\n",
      "['corrective bug in CodeBlock at Line 16 Column 9 \\n', 'corrective bug in CodeBlock at Line 16 Column 9 \\n', 'corrective bug in CodeBlock at Line 16 Column 9 \\n']\n",
      "['corrective bug in CodeBlock at Line 16 Column 9 \\n', 'corrective bug in CodeBlock at Line 16 Column 9 \\n', 'corrective bug in CodeBlock at Line 16 Column 9 \\n']\n",
      "['corrective bug in CodeBlock at Line 16 Column 9 \\n', 'corrective bug in CodeBlock at Line 16 Column 9 \\n', 'corrective bug in CodeBlock at Line 16 Column 9 \\n']\n",
      "['corrective bug in CodeBlock at Line 16 Column 9 \\n', 'corrective bug in CodeBlock at Line 16 Column 9 \\n', 'corrective bug in CodeBlock at Line 16 Column 9 \\n']\n",
      "['corrective bug in CodeBlock at Line 16 Column 9 \\n', 'corrective bug in CodeBlock at Line 16 Column 9 \\n', 'corrective bug in CodeBlock at Line 16 Column 9 \\n']\n",
      "['corrective bug in CodeBlock at Line 16 Column 9 \\n', 'corrective bug in CodeBlock at Line 16 Column 9 \\n', 'corrective bug in CodeBlock at Line 16 Column 9 \\n']\n",
      "['corrective bug in CodeBlock at Line 16 Column 9 \\n', 'corrective bug in CodeBlock at Line 16 Column 9 \\n', 'corrective bug in CodeBlock at Line 16 Column 9 \\n']\n",
      "['corrective bug in CodeBlock at Line 16 Column 9 \\n', 'corrective bug in CodeBlock at Line 16 Column 9 \\n', 'corrective bug in CodeBlock at Line 16 Column 9 \\n']\n",
      "['corrective bug in CodeBlock at Line 16 Column 9 \\n', 'corrective bug in CodeBlock at Line 16 Column 9 \\n', 'corrective bug in CodeBlock at Line 16 Column 9 \\n']\n",
      "['corrective bug in CodeBlock at Line 16 Column 9 \\n', 'corrective bug in CodeBlock at Line 16 Column 9 \\n', 'corrective bug in CodeBlock at Line 16 Column 9 \\n']\n",
      "['corrective bug in CodeBlock at Line 1 Column 9 \\n', 'corrective bug in CodeBlock at Line 1 Column 9 \\n', 'corrective bug in CodeBlock at Line 1 Column 9 \\n']\n",
      "['corrective bug in CodeBlock at Line 1 Column 9 \\n', 'corrective bug in CodeBlock at Line 1 Column 9 \\n', 'corrective bug in CodeBlock at Line 1 Column 9 \\n']\n",
      "['adaptive bug in CodeBlock at Line 16 Column 9 \\n', 'adaptive bug in CodeBlock at Line 16 Column 9 \\n', 'adaptive bug in CodeBlock at Line 16 Column 9 \\n']\n",
      "['adaptive bug in CodeBlock at Line 16 Column 9 \\n', 'adaptive bug in CodeBlock at Line 16 Column 9 \\n', 'adaptive bug in CodeBlock at Line 16 Column 9 \\n']\n",
      "['corrective bug in CodeBlock at Line 1 Column 9 \\n', 'corrective bug in CodeBlock at Line 1 Column 9 \\n', 'corrective bug in CodeBlock at Line 1 Column 9 \\n']\n",
      "['corrective bug in CodeBlock at Line 1 Column 9 \\n', 'corrective bug in CodeBlock at Line 1 Column 9 \\n', 'corrective bug in CodeBlock at Line 1 Column 9 \\n']\n",
      "['corrective bug in CodeBlock at Line 15 Column 12 \\n', 'corrective bug in CodeBlock at Line 15 Column 12 \\n', 'corrective bug in CodeBlock at Line 15 Column 12 \\n']\n",
      "['corrective bug in CodeBlock at Line 15 Column 12 \\n', 'corrective bug in CodeBlock at Line 15 Column 12 \\n', 'corrective bug in CodeBlock at Line 15 Column 12 \\n']\n",
      "['corrective bug in CodeBlock at Line 16 Column 9 \\n', 'corrective bug in CodeBlock at Line 16 Column 9 \\n', 'corrective bug in CodeBlock at Line 16 Column 9 \\n']\n",
      "['corrective bug in CodeBlock at Line 16 Column 9 \\n', 'corrective bug in CodeBlock at Line 16 Column 9 \\n', 'corrective bug in CodeBlock at Line 16 Column 9 \\n']\n"
     ]
    },
    {
     "name": "stdout",
     "output_type": "stream",
     "text": [
      "['corrective bug in CodeBlock at Line 16 Column 9 \\n', 'corrective bug in CodeBlock at Line 16 Column 9 \\n', 'corrective bug in CodeBlock at Line 16 Column 9 \\n']\n",
      "['corrective bug in CodeBlock at Line 16 Column 9 \\n', 'corrective bug in CodeBlock at Line 16 Column 9 \\n', 'corrective bug in CodeBlock at Line 16 Column 9 \\n']\n",
      "['corrective bug in CodeBlock at Line 16 Column 9 \\n', 'corrective bug in CodeBlock at Line 16 Column 9 \\n', 'corrective bug in CodeBlock at Line 16 Column 9 \\n']\n",
      "['adaptive bug in CodeBlock at Line 1 Column 9 \\n', 'adaptive bug in CodeBlock at Line 1 Column 9 \\n', 'adaptive bug in CodeBlock at Line 1 Column 9 \\n']\n",
      "['corrective bug in CodeBlock at Line 16 Column 9 \\n', 'corrective bug in CodeBlock at Line 16 Column 9 \\n', 'corrective bug in CodeBlock at Line 16 Column 9 \\n']\n",
      "['corrective bug in CodeBlock at Line 16 Column 9 \\n', 'corrective bug in CodeBlock at Line 16 Column 9 \\n', 'corrective bug in CodeBlock at Line 16 Column 9 \\n']\n",
      "['adaptive bug in CodeBlock at Line 1 Column 9 \\n', 'adaptive bug in CodeBlock at Line 1 Column 9 \\n', 'adaptive bug in CodeBlock at Line 1 Column 9 \\n']\n",
      "['adaptive bug in CodeBlock at Line 1 Column 9 \\n', 'adaptive bug in CodeBlock at Line 1 Column 9 \\n', 'adaptive bug in CodeBlock at Line 1 Column 9 \\n']\n",
      "['corrective bug in CodeBlock at Line 16 Column 9 \\n', 'corrective bug in CodeBlock at Line 16 Column 9 \\n', 'corrective bug in CodeBlock at Line 16 Column 9 \\n']\n",
      "['corrective bug in CodeBlock at Line 16 Column 9 \\n', 'corrective bug in CodeBlock at Line 16 Column 9 \\n', 'corrective bug in CodeBlock at Line 16 Column 9 \\n']\n",
      "['corrective bug in CodeBlock at Line 16 Column 9 \\n', 'corrective bug in CodeBlock at Line 16 Column 9 \\n', 'corrective bug in CodeBlock at Line 16 Column 9 \\n']\n",
      "['corrective bug in CodeBlock at Line 1 Column 9 \\n', 'corrective bug in CodeBlock at Line 1 Column 9 \\n', 'corrective bug in CodeBlock at Line 1 Column 9 \\n']\n",
      "['corrective bug in CodeBlock at Line 16 Column 9 \\n', 'corrective bug in CodeBlock at Line 16 Column 9 \\n', 'corrective bug in CodeBlock at Line 16 Column 9 \\n']\n",
      "['corrective bug in CodeBlock at Line 1 Column 9 \\n', 'corrective bug in CodeBlock at Line 1 Column 9 \\n', 'corrective bug in CodeBlock at Line 1 Column 9 \\n']\n",
      "['corrective bug in CodeBlock at Line 16 Column 9 \\n', 'corrective bug in CodeBlock at Line 16 Column 9 \\n', 'corrective bug in CodeBlock at Line 16 Column 9 \\n']\n",
      "['corrective bug in CodeBlock at Line 16 Column 9 \\n', 'corrective bug in CodeBlock at Line 16 Column 9 \\n', 'corrective bug in CodeBlock at Line 16 Column 9 \\n']\n",
      "['corrective bug in CodeBlock at Line 16 Column 9 \\n', 'corrective bug in CodeBlock at Line 16 Column 9 \\n', 'corrective bug in CodeBlock at Line 16 Column 9 \\n']\n",
      "['corrective bug in CodeBlock at Line 16 Column 9 \\n', 'corrective bug in CodeBlock at Line 16 Column 9 \\n', 'corrective bug in CodeBlock at Line 16 Column 9 \\n']\n",
      "['corrective bug in CodeBlock at Line 16 Column 9 \\n', 'corrective bug in CodeBlock at Line 16 Column 9 \\n', 'corrective bug in CodeBlock at Line 16 Column 9 \\n']\n",
      "['corrective bug in CodeBlock at Line 16 Column 9 \\n', 'corrective bug in CodeBlock at Line 16 Column 9 \\n', 'corrective bug in CodeBlock at Line 16 Column 9 \\n']\n",
      "['corrective bug in CodeBlock at Line 16 Column 9 \\n', 'corrective bug in CodeBlock at Line 16 Column 9 \\n', 'corrective bug in CodeBlock at Line 16 Column 9 \\n']\n",
      "['corrective bug in CodeBlock at Line 16 Column 9 \\n', 'corrective bug in CodeBlock at Line 16 Column 9 \\n', 'corrective bug in CodeBlock at Line 16 Column 9 \\n']\n",
      "['corrective bug in CodeBlock at Line 16 Column 9 \\n', 'corrective bug in CodeBlock at Line 16 Column 9 \\n', 'corrective bug in CodeBlock at Line 16 Column 9 \\n']\n",
      "['corrective bug in CodeBlock at Line 16 Column 9 \\n', 'corrective bug in CodeBlock at Line 16 Column 9 \\n', 'corrective bug in CodeBlock at Line 16 Column 9 \\n']\n",
      "['corrective bug in CodeBlock at Line 1 Column 9 \\n', 'corrective bug in CodeBlock at Line 1 Column 9 \\n', 'corrective bug in CodeBlock at Line 1 Column 9 \\n']\n",
      "['corrective bug in CodeBlock at Line 1 Column 9 \\n', 'corrective bug in CodeBlock at Line 1 Column 9 \\n', 'corrective bug in CodeBlock at Line 1 Column 9 \\n']\n",
      "['corrective bug in CodeBlock at Line 1 Column 9 \\n', 'corrective bug in CodeBlock at Line 1 Column 9 \\n', 'corrective bug in CodeBlock at Line 1 Column 9 \\n']\n",
      "['corrective bug in CodeBlock at Line 16 Column 9 \\n', 'corrective bug in CodeBlock at Line 16 Column 9 \\n', 'corrective bug in CodeBlock at Line 16 Column 9 \\n']\n",
      "['corrective bug in CodeBlock at Line 16 Column 9 \\n', 'corrective bug in CodeBlock at Line 16 Column 9 \\n', 'corrective bug in CodeBlock at Line 16 Column 9 \\n']\n",
      "['corrective bug in CodeBlock at Line 1 Column 9 \\n', 'corrective bug in CodeBlock at Line 1 Column 9 \\n', 'corrective bug in CodeBlock at Line 1 Column 9 \\n']\n",
      "['corrective bug in CodeBlock at Line 1 Column 9 \\n', 'corrective bug in CodeBlock at Line 1 Column 9 \\n', 'corrective bug in CodeBlock at Line 1 Column 9 \\n']\n",
      "['corrective bug in CodeBlock at Line 1 Column 9 \\n', 'corrective bug in CodeBlock at Line 1 Column 9 \\n', 'corrective bug in CodeBlock at Line 1 Column 9 \\n']\n",
      "['corrective bug in CodeBlock at Line 1 Column 9 \\n', 'corrective bug in CodeBlock at Line 1 Column 9 \\n', 'corrective bug in CodeBlock at Line 1 Column 9 \\n']\n",
      "['corrective bug in CodeBlock at Line 1 Column 9 \\n', 'corrective bug in CodeBlock at Line 1 Column 9 \\n', 'corrective bug in CodeBlock at Line 1 Column 9 \\n']\n",
      "['corrective bug in CodeBlock at Line 1 Column 9 \\n', 'corrective bug in CodeBlock at Line 1 Column 9 \\n', 'corrective bug in CodeBlock at Line 1 Column 9 \\n']\n",
      "['corrective bug in CodeBlock at Line 1 Column 9 \\n', 'corrective bug in CodeBlock at Line 1 Column 9 \\n', 'corrective bug in CodeBlock at Line 1 Column 9 \\n']\n",
      "['corrective bug in CodeBlock at Line 1 Column 9 \\n', 'corrective bug in CodeBlock at Line 1 Column 9 \\n', 'corrective bug in CodeBlock at Line 1 Column 9 \\n']\n",
      "['corrective bug in CodeBlock at Line 1 Column 9 \\n', 'corrective bug in CodeBlock at Line 1 Column 9 \\n', 'corrective bug in CodeBlock at Line 1 Column 9 \\n']\n",
      "['corrective bug in CodeBlock at Line 1 Column 9 \\n', 'corrective bug in CodeBlock at Line 1 Column 9 \\n', 'corrective bug in CodeBlock at Line 1 Column 9 \\n']\n",
      "['corrective bug in CodeBlock at Line 1 Column 9 \\n', 'corrective bug in CodeBlock at Line 1 Column 9 \\n', 'corrective bug in CodeBlock at Line 1 Column 9 \\n']\n",
      "['corrective bug in CodeBlock at Line 1 Column 9 \\n', 'corrective bug in CodeBlock at Line 1 Column 9 \\n', 'corrective bug in CodeBlock at Line 1 Column 9 \\n']\n",
      "['corrective bug in CodeBlock at Line 1 Column 9 \\n', 'corrective bug in CodeBlock at Line 1 Column 9 \\n', 'corrective bug in CodeBlock at Line 1 Column 9 \\n']\n",
      "['corrective bug in CodeBlock at Line 1 Column 9 \\n', 'corrective bug in CodeBlock at Line 1 Column 9 \\n', 'corrective bug in CodeBlock at Line 1 Column 9 \\n']\n",
      "['corrective bug in CodeBlock at Line 1 Column 9 \\n', 'corrective bug in CodeBlock at Line 1 Column 9 \\n', 'corrective bug in CodeBlock at Line 1 Column 9 \\n']\n",
      "['corrective bug in CodeBlock at Line 1 Column 9 \\n', 'corrective bug in CodeBlock at Line 1 Column 9 \\n', 'corrective bug in CodeBlock at Line 1 Column 9 \\n']\n",
      "['corrective bug in CodeBlock at Line 1 Column 9 \\n', 'corrective bug in CodeBlock at Line 1 Column 9 \\n', 'corrective bug in CodeBlock at Line 1 Column 9 \\n']\n",
      "['corrective bug in CodeBlock at Line 1 Column 9 \\n', 'corrective bug in CodeBlock at Line 1 Column 9 \\n', 'corrective bug in CodeBlock at Line 1 Column 9 \\n']\n",
      "['corrective bug in CodeBlock at Line 1 Column 9 \\n', 'corrective bug in CodeBlock at Line 1 Column 9 \\n', 'corrective bug in CodeBlock at Line 1 Column 9 \\n']\n",
      "['corrective bug in CodeBlock at Line 1 Column 9 \\n', 'corrective bug in CodeBlock at Line 1 Column 9 \\n', 'corrective bug in CodeBlock at Line 1 Column 9 \\n']\n",
      "['corrective bug in CodeBlock at Line 1 Column 9 \\n', 'corrective bug in CodeBlock at Line 1 Column 9 \\n', 'corrective bug in CodeBlock at Line 1 Column 9 \\n']\n",
      "['corrective bug in CodeBlock at Line 18 Column 9 \\n', 'corrective bug in CodeBlock at Line 18 Column 9 \\n', 'corrective bug in CodeBlock at Line 18 Column 9 \\n']\n",
      "['corrective bug in CodeBlock at Line 18 Column 9 \\n', 'corrective bug in CodeBlock at Line 18 Column 9 \\n', 'corrective bug in CodeBlock at Line 18 Column 9 \\n']\n",
      "['corrective bug in CodeBlock at Line 18 Column 9 \\n', 'corrective bug in CodeBlock at Line 18 Column 9 \\n', 'corrective bug in CodeBlock at Line 18 Column 9 \\n']\n",
      "['corrective bug in CodeBlock at Line 18 Column 9 \\n', 'corrective bug in CodeBlock at Line 18 Column 9 \\n', 'corrective bug in CodeBlock at Line 18 Column 9 \\n']\n",
      "['corrective bug in CodeBlock at Line 16 Column 9 \\n', 'corrective bug in CodeBlock at Line 16 Column 9 \\n', 'corrective bug in CodeBlock at Line 16 Column 9 \\n']\n",
      "['corrective bug in CodeBlock at Line 16 Column 9 \\n', 'corrective bug in CodeBlock at Line 16 Column 9 \\n', 'corrective bug in CodeBlock at Line 16 Column 9 \\n']\n",
      "['corrective bug in CodeBlock at Line 16 Column 9 \\n', 'corrective bug in CodeBlock at Line 16 Column 9 \\n', 'corrective bug in CodeBlock at Line 16 Column 9 \\n']\n",
      "['corrective bug in CodeBlock at Line 16 Column 9 \\n', 'corrective bug in CodeBlock at Line 16 Column 9 \\n', 'corrective bug in CodeBlock at Line 16 Column 9 \\n']\n",
      "['corrective bug in CodeBlock at Line 16 Column 9 \\n', 'corrective bug in CodeBlock at Line 16 Column 9 \\n', 'corrective bug in CodeBlock at Line 16 Column 9 \\n']\n",
      "['corrective bug in CodeBlock at Line 16 Column 9 \\n', 'corrective bug in CodeBlock at Line 16 Column 9 \\n', 'corrective bug in CodeBlock at Line 16 Column 9 \\n']\n"
     ]
    },
    {
     "name": "stdout",
     "output_type": "stream",
     "text": [
      "['corrective bug in CodeBlock at Line 16 Column 9 \\n', 'corrective bug in CodeBlock at Line 16 Column 9 \\n', 'corrective bug in CodeBlock at Line 16 Column 9 \\n']\n",
      "['corrective bug in CodeBlock at Line 16 Column 9 \\n', 'corrective bug in CodeBlock at Line 16 Column 9 \\n', 'corrective bug in CodeBlock at Line 16 Column 9 \\n']\n",
      "['corrective bug in CodeBlock at Line 16 Column 9 \\n', 'corrective bug in CodeBlock at Line 16 Column 9 \\n', 'corrective bug in CodeBlock at Line 16 Column 9 \\n']\n",
      "['corrective bug in CodeBlock at Line 16 Column 9 \\n', 'corrective bug in CodeBlock at Line 16 Column 9 \\n', 'corrective bug in CodeBlock at Line 16 Column 9 \\n']\n",
      "['adaptive bug in CodeBlock at Line 16 Column 9 \\n', 'adaptive bug in CodeBlock at Line 16 Column 9 \\n', 'adaptive bug in CodeBlock at Line 16 Column 9 \\n']\n",
      "['adaptive bug in CodeBlock at Line 16 Column 9 \\n', 'adaptive bug in CodeBlock at Line 16 Column 9 \\n', 'adaptive bug in CodeBlock at Line 16 Column 9 \\n']\n",
      "['corrective bug in CodeBlock at Line 16 Column 9 \\n', 'corrective bug in CodeBlock at Line 16 Column 9 \\n', 'corrective bug in CodeBlock at Line 16 Column 9 \\n']\n",
      "['corrective bug in CodeBlock at Line 16 Column 9 \\n', 'corrective bug in CodeBlock at Line 16 Column 9 \\n', 'corrective bug in CodeBlock at Line 16 Column 9 \\n']\n",
      "['corrective bug in CodeBlock at Line 16 Column 9 \\n', 'corrective bug in CodeBlock at Line 16 Column 9 \\n', 'corrective bug in CodeBlock at Line 16 Column 9 \\n']\n",
      "['corrective bug in CodeBlock at Line 16 Column 9 \\n', 'corrective bug in CodeBlock at Line 16 Column 9 \\n', 'corrective bug in CodeBlock at Line 16 Column 9 \\n']\n",
      "['corrective bug in CodeBlock at Line 16 Column 9 \\n', 'corrective bug in CodeBlock at Line 16 Column 9 \\n', 'corrective bug in CodeBlock at Line 16 Column 9 \\n']\n",
      "['corrective bug in CodeBlock at Line 1 Column 9 \\n', 'corrective bug in CodeBlock at Line 1 Column 9 \\n', 'corrective bug in CodeBlock at Line 1 Column 9 \\n']\n",
      "['corrective bug in CodeBlock at Line 1 Column 9 \\n', 'corrective bug in CodeBlock at Line 1 Column 9 \\n', 'corrective bug in CodeBlock at Line 1 Column 9 \\n']\n",
      "['corrective bug in CodeBlock at Line 1 Column 9 \\n', 'corrective bug in CodeBlock at Line 1 Column 9 \\n', 'corrective bug in CodeBlock at Line 1 Column 9 \\n']\n",
      "['corrective bug in CodeBlock at Line 1 Column 9 \\n', 'corrective bug in CodeBlock at Line 1 Column 9 \\n', 'corrective bug in CodeBlock at Line 1 Column 9 \\n']\n",
      "['corrective bug in CodeBlock at Line 1 Column 9 \\n', 'corrective bug in CodeBlock at Line 1 Column 9 \\n', 'corrective bug in CodeBlock at Line 1 Column 9 \\n']\n"
     ]
    }
   ],
   "source": [
    "for i in codes_to_try:\n",
    "    print(i)\n",
    "    get_results(i)"
   ]
  },
  {
   "cell_type": "code",
   "execution_count": null,
   "metadata": {},
   "outputs": [],
   "source": []
  }
 ],
 "metadata": {
  "kernelspec": {
   "display_name": "Python 3",
   "language": "python",
   "name": "python3"
  },
  "language_info": {
   "codemirror_mode": {
    "name": "ipython",
    "version": 3
   },
   "file_extension": ".py",
   "mimetype": "text/x-python",
   "name": "python",
   "nbconvert_exporter": "python",
   "pygments_lexer": "ipython3",
   "version": "3.6.5"
  }
 },
 "nbformat": 4,
 "nbformat_minor": 2
}
