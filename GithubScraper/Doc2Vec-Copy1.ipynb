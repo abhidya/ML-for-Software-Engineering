{
 "cells": [
  {
   "cell_type": "code",
   "execution_count": 61,
   "metadata": {},
   "outputs": [],
   "source": [
    "import pandas as pd\n",
    "df = pd.DataFrame.from_csv(\"promise_gzip.gz\")\n",
    "df_nonBug = pd.read_csv('githubrepos.csv.gz')"
   ]
  },
  {
   "cell_type": "code",
   "execution_count": 62,
   "metadata": {},
   "outputs": [],
   "source": [
    "df_nonBug['label']  = \"Correct\""
   ]
  },
  {
   "cell_type": "code",
   "execution_count": 63,
   "metadata": {
    "scrolled": true
   },
   "outputs": [],
   "source": [
    "df = df.dropna(subset=['astcode'])\n",
    "df_nonBug = df_nonBug.dropna(subset=['astcode'])\n"
   ]
  },
  {
   "cell_type": "code",
   "execution_count": 64,
   "metadata": {},
   "outputs": [
    {
     "name": "stdout",
     "output_type": "stream",
     "text": [
      "['JavaSyntaxError' 'code_col' 'code_line' 'code' 'astcode'\n",
      " 'database_source' 'label']\n"
     ]
    }
   ],
   "source": [
    "print(df_nonBug.columns.values)"
   ]
  },
  {
   "cell_type": "code",
   "execution_count": 65,
   "metadata": {},
   "outputs": [
    {
     "name": "stdout",
     "output_type": "stream",
     "text": [
      "(20345, 3)\n"
     ]
    }
   ],
   "source": [
    "df = df[['astcode', 'label', 'Source_code']]\n",
    "df_nonBug = df_nonBug[['astcode', 'label']]\n",
    "\n",
    "df_nonBug = df_nonBug.sample(20000)\n",
    "frames = []\n",
    "frames.append(df)\n",
    "frames.append(df_nonBug)\n",
    "train = pd.concat(frames)\n",
    "frames = []\n",
    "print(train.shape)\n",
    "train = train.drop_duplicates()\n",
    "from pd_doc2vec import doc2vec\n",
    "\n",
    "x = doc2vec(train,'astcode', ['label'], build=True )\n",
    "x.verbose=True"
   ]
  },
  {
   "cell_type": "code",
   "execution_count": 66,
   "metadata": {},
   "outputs": [
    {
     "name": "stdout",
     "output_type": "stream",
     "text": [
      "Correct    20000\n",
      "p            126\n",
      "a             51\n",
      "c             30\n",
      "Name: label, dtype: int64\n"
     ]
    }
   ],
   "source": [
    "print(train.label.value_counts())"
   ]
  },
  {
   "cell_type": "code",
   "execution_count": 67,
   "metadata": {},
   "outputs": [
    {
     "name": "stdout",
     "output_type": "stream",
     "text": [
      "['astcode' 'label' 'Source_code']\n",
      "113\n"
     ]
    }
   ],
   "source": [
    "print(df.columns.values)\n",
    "df['result'] = x.predict(df.astcode)\n",
    "codes_to_try = []\n",
    "for index, row in df.iterrows():\n",
    "    if row['label'] == row['result']:\n",
    "        codes_to_try.append(row['Source_code'])\n",
    "print(len(codes_to_try))"
   ]
  },
  {
   "cell_type": "code",
   "execution_count": 58,
   "metadata": {},
   "outputs": [
    {
     "name": "stdout",
     "output_type": "stream",
     "text": [
      "package rx;\n",
      "\n",
      "import org.junit.Test;\n",
      "\n",
      "import rx.CovarianceTest.CoolRating;\n",
      "import rx.CovarianceTest.ExtendedResult;\n",
      "import rx.CovarianceTest.HorrorMovie;\n",
      "import rx.CovarianceTest.Media;\n",
      "import rx.CovarianceTest.Movie;\n",
      "import rx.CovarianceTest.Rating;\n",
      "import rx.CovarianceTest.Result;\n",
      "import rx.util.functions.Action1;\n",
      "import rx.util.functions.Func2;\n",
      "\n",
      "public class ZipTests {\n",
      "\n",
      "    /**\n",
      "     * This won't compile if super/extends isn't done correctly on generics\n",
      "     */\n",
      "    @Test\n",
      "    public void testCovarianceOfZip() {\n",
      "        Observable horrors = Observable.from(new HorrorMovie());\n",
      "        Observable ratings = Observable.from(new CoolRating());\n",
      "\n",
      "        Observable. zip(horrors, ratings, combine).toBlockingObservable().forEach(action);\n",
      "        Observable. zip(horrors, ratings, combine).toBlockingObservable().forEach(action);\n",
      "        Observable. zip(horrors, ratings, combine).toBlockingObservable().forEach(extendedAction);\n",
      "        Observable. zip(horrors, ratings, combine).toBlockingObservable().forEach(action);\n",
      "        Observable. zip(horrors, ratings, combine).toBlockingObservable().forEach(action);\n",
      "\n",
      "        Observable. zip(horrors, ratings, combine);\n",
      "    }\n",
      "\n",
      "    Func2 combine = new Func2() {\n",
      "        @Override\n",
      "        public ExtendedResult call(Media m, Rating r) {\n",
      "            return new ExtendedResult();\n",
      "        }\n",
      "    };\n",
      "\n",
      "    Action1 action = new Action1() {\n",
      "        @Override\n",
      "        public void call(Result t1) {\n",
      "            System.out.println(\"Result: \" + t1);\n",
      "        }\n",
      "    };\n",
      "\n",
      "    Action1 extendedAction = new Action1() {\n",
      "        @Override\n",
      "        public void call(ExtendedResult t1) {\n",
      "            System.out.println(\"Result: \" + t1);\n",
      "        }\n",
      "    };\n",
      "}\n",
      "\n"
     ]
    }
   ],
   "source": [
    "print(codes_to_try[43])"
   ]
  },
  {
   "cell_type": "code",
   "execution_count": 23,
   "metadata": {},
   "outputs": [],
   "source": [
    "try:\n",
    "    import cPickle as pickle\n",
    "except ModuleNotFoundError:\n",
    "    import pickle\n",
    "\n",
    "\n",
    "with open('model.pkl', 'wb') as output:\n",
    "    pickle.dump(x, output, pickle.HIGHEST_PROTOCOL)"
   ]
  },
  {
   "cell_type": "code",
   "execution_count": null,
   "metadata": {},
   "outputs": [
    {
     "data": {
      "application/vnd.jupyter.widget-view+json": {
       "model_id": "65c22addfc5f456e8437ca0d5e61710a",
       "version_major": 2,
       "version_minor": 0
      },
      "text/plain": [
       "HBox(children=(IntProgress(value=0), HTML(value='')))"
      ]
     },
     "metadata": {},
     "output_type": "display_data"
    },
    {
     "name": "stdout",
     "output_type": "stream",
     "text": [
      "label\n"
     ]
    }
   ],
   "source": [
    "from tqdm._tqdm_notebook import tqdm_notebook as tqdm\n",
    "from sklearn.metrics import accuracy_score\n",
    "from sklearn.metrics import f1_score\n",
    "\n",
    "models = []\n",
    "thismax = 0\n",
    "which_one=0\n",
    "\n",
    "for i in tqdm(range(100)):\n",
    "    # (\"c\" for corrective, \"p\" for perfective, \"a\" for adaptive\n",
    "    from pd_doc2vec import doc2vec\n",
    "    \n",
    "    x = doc2vec(train,'astcode', ['label'], build=True )\n",
    "    k = x.score(verbose = True)\n",
    "    print(k)\n",
    "    models.append(x)\n",
    "\n",
    "    if accuracy>thismax:\n",
    "        thismax = accuracy\n",
    "        which_one = i\n",
    "        print(accuracy, labelaccuracy)\n",
    "    \n",
    "print( max,which_one )"
   ]
  },
  {
   "cell_type": "code",
   "execution_count": 17,
   "metadata": {},
   "outputs": [
    {
     "name": "stdout",
     "output_type": "stream",
     "text": [
      "<pd_doc2vec.doc2vec object at 0x7f6fd4722128>\n"
     ]
    }
   ],
   "source": [
    "x = models[95]\n",
    "print(x)"
   ]
  },
  {
   "cell_type": "code",
   "execution_count": 31,
   "metadata": {},
   "outputs": [],
   "source": [
    "models = []"
   ]
  },
  {
   "cell_type": "code",
   "execution_count": 33,
   "metadata": {},
   "outputs": [
    {
     "name": "stdout",
     "output_type": "stream",
     "text": [
      "<pd_doc2vec.doc2vec object at 0x7fe2c4388128>\n"
     ]
    }
   ],
   "source": [
    "print(x)"
   ]
  },
  {
   "cell_type": "code",
   "execution_count": 10,
   "metadata": {},
   "outputs": [],
   "source": [
    "x = None\n",
    "try:\n",
    "    import cPickle as pickle\n",
    "except ModuleNotFoundError:\n",
    "    import pickle\n",
    "\n",
    "\n",
    "with open('model.pkl', 'rb') as input:\n",
    "    x = pickle.load(input)\n",
    "\n"
   ]
  },
  {
   "cell_type": "code",
   "execution_count": 11,
   "metadata": {},
   "outputs": [
    {
     "name": "stdout",
     "output_type": "stream",
     "text": [
      "['JavaSyntaxError' 'Source_code' 'code_col' 'code_line' 'code' 'astcode'\n",
      " 'label' 'repoSource' 'add' 'allow' 'bug' 'chang' 'error' 'fail' 'fix'\n",
      " 'implement' 'improv' 'issu' 'method' 'new' 'npe' 'refactor' 'remov'\n",
      " 'report' 'set' 'support' 'test' 'use' 'database_source']\n"
     ]
    }
   ],
   "source": [
    "print(df.columns.values)\n",
    "df['result'] = x.predict(df.astcode)"
   ]
  },
  {
   "cell_type": "code",
   "execution_count": 12,
   "metadata": {},
   "outputs": [],
   "source": [
    "codes_to_try = []\n",
    "for index, row in df.iterrows():\n",
    "    if row['label'] == row['result']:\n",
    "        codes_to_try.append(row['Source_code'])\n"
   ]
  },
  {
   "cell_type": "code",
   "execution_count": 31,
   "metadata": {},
   "outputs": [],
   "source": [
    "def get_results(data):\n",
    "    message = []\n",
    "    code ={}\n",
    "    import javalang\n",
    "    import pandas as pd\n",
    "    from pd_doc2vec import doc2vec\n",
    "    try:\n",
    "        import cPickle as pickle\n",
    "    except ModuleNotFoundError:\n",
    "        import pickle\n",
    "\n",
    "    with open('model.pkl', 'rb') as input:\n",
    "        x = pickle.load(input)\n",
    "    try:\n",
    "        j=0\n",
    "        tree = javalang.parse.parse(data)\n",
    "        for codeblock in tree.children:\n",
    "            if codeblock != None and codeblock != []:\n",
    "                j = j +1\n",
    "                result = x.predict_text_main(data)\n",
    "                if result == \"c\":\n",
    "                    bug = \"Semantic Bug\"\n",
    "                elif result == \"p\":\n",
    "                    bug = \"Perfective Refactor Possible\"\n",
    "                elif result == \"a\":\n",
    "                    bug = \"Adaptive Refactor Possible\"\n",
    "                else:\n",
    "                    bug = result\n",
    "                try:\n",
    "                    line =   bug + \"CodeBlock at Line \" + str(codeblock._position.line) + \" Column \" + str(codeblock._position.column) + \" \\n\"\n",
    "                    if bug == \"Correct\":\n",
    "                        line = bug + \" CodeBlock OK at Line \" + str(codeblock._position.line) + \" Column \" + str(codeblock._position.column) + \" \\n\"\n",
    "\n",
    "                    #   line =  \"Bug in CodeBlock at Line UNKNOWN  Column UNKOWN \\n\"\n",
    "                    message.append(line)\n",
    "                except (AttributeError):\n",
    "                    line = bug + \" bug in CodeBlock \" + str(j)\n",
    "                    if bug == \"Correct\":\n",
    "                        line = \"CodeBlock \" + str(j) + \" OK\"\n",
    "                    message.append(line)\n",
    "\n",
    "\n",
    "    except (javalang.parser.JavaSyntaxError, KeyError, javalang.tokenizer.LexerError) as e:\n",
    "        message.append(str(e))\n",
    "    code['msg'] = message\n",
    "    print(message)\n"
   ]
  },
  {
   "cell_type": "code",
   "execution_count": 68,
   "metadata": {
    "scrolled": false
   },
   "outputs": [
    {
     "name": "stdout",
     "output_type": "stream",
     "text": [
      "['Adaptive Refactor PossibleCodeBlock at Line 16 Column 9 \\n', 'Adaptive Refactor Possible bug in CodeBlock 2', 'Adaptive Refactor Possible bug in CodeBlock 3']\n",
      "['Adaptive Refactor PossibleCodeBlock at Line 16 Column 9 \\n', 'Adaptive Refactor Possible bug in CodeBlock 2', 'Adaptive Refactor Possible bug in CodeBlock 3']\n",
      "['Adaptive Refactor PossibleCodeBlock at Line 16 Column 9 \\n', 'Adaptive Refactor Possible bug in CodeBlock 2', 'Adaptive Refactor Possible bug in CodeBlock 3']\n",
      "['Adaptive Refactor PossibleCodeBlock at Line 16 Column 9 \\n', 'Adaptive Refactor Possible bug in CodeBlock 2', 'Adaptive Refactor Possible bug in CodeBlock 3']\n",
      "['Adaptive Refactor PossibleCodeBlock at Line 16 Column 9 \\n', 'Adaptive Refactor Possible bug in CodeBlock 2', 'Adaptive Refactor Possible bug in CodeBlock 3']\n",
      "['Semantic BugCodeBlock at Line 16 Column 9 \\n', 'Semantic Bug bug in CodeBlock 2', 'Adaptive Refactor Possible bug in CodeBlock 3']\n",
      "['Semantic BugCodeBlock at Line 16 Column 9 \\n', 'Semantic Bug bug in CodeBlock 2', 'Adaptive Refactor Possible bug in CodeBlock 3']\n",
      "['Semantic BugCodeBlock at Line 16 Column 9 \\n', 'Semantic Bug bug in CodeBlock 2', 'Adaptive Refactor Possible bug in CodeBlock 3']\n",
      "['Semantic BugCodeBlock at Line 1 Column 9 \\n', 'Semantic Bug bug in CodeBlock 2', 'Semantic Bug bug in CodeBlock 3']\n",
      "['Semantic BugCodeBlock at Line 1 Column 9 \\n', 'Semantic Bug bug in CodeBlock 2', 'Semantic Bug bug in CodeBlock 3']\n",
      "['Semantic BugCodeBlock at Line 16 Column 9 \\n', 'Semantic Bug bug in CodeBlock 2', 'Semantic Bug bug in CodeBlock 3']\n",
      "['Semantic BugCodeBlock at Line 16 Column 9 \\n', 'Semantic Bug bug in CodeBlock 2', 'Semantic Bug bug in CodeBlock 3']\n",
      "['Semantic BugCodeBlock at Line 16 Column 9 \\n', 'Semantic Bug bug in CodeBlock 2', 'Semantic Bug bug in CodeBlock 3']\n",
      "['Semantic BugCodeBlock at Line 16 Column 9 \\n', 'Semantic Bug bug in CodeBlock 2', 'Semantic Bug bug in CodeBlock 3']\n",
      "['Semantic BugCodeBlock at Line 16 Column 9 \\n', 'Semantic Bug bug in CodeBlock 2', 'Semantic Bug bug in CodeBlock 3']\n",
      "['Adaptive Refactor PossibleCodeBlock at Line 16 Column 9 \\n', 'Adaptive Refactor Possible bug in CodeBlock 2', 'Adaptive Refactor Possible bug in CodeBlock 3']\n",
      "['Semantic BugCodeBlock at Line 16 Column 9 \\n', 'Semantic Bug bug in CodeBlock 2', 'Semantic Bug bug in CodeBlock 3']\n",
      "['Semantic BugCodeBlock at Line 16 Column 9 \\n', 'Semantic Bug bug in CodeBlock 2', 'Semantic Bug bug in CodeBlock 3']\n",
      "['Semantic BugCodeBlock at Line 16 Column 9 \\n', 'Semantic Bug bug in CodeBlock 2', 'Semantic Bug bug in CodeBlock 3']\n",
      "['Semantic BugCodeBlock at Line 16 Column 9 \\n', 'Semantic Bug bug in CodeBlock 2', 'Semantic Bug bug in CodeBlock 3']\n",
      "['Semantic BugCodeBlock at Line 16 Column 9 \\n', 'Semantic Bug bug in CodeBlock 2', 'Semantic Bug bug in CodeBlock 3']\n",
      "['Semantic BugCodeBlock at Line 16 Column 9 \\n', 'Semantic Bug bug in CodeBlock 2', 'Semantic Bug bug in CodeBlock 3']\n",
      "['Semantic BugCodeBlock at Line 1 Column 9 \\n', 'Semantic Bug bug in CodeBlock 2', 'Semantic Bug bug in CodeBlock 3']\n",
      "['Semantic BugCodeBlock at Line 16 Column 9 \\n', 'Semantic Bug bug in CodeBlock 2', 'Semantic Bug bug in CodeBlock 3']\n",
      "['Semantic BugCodeBlock at Line 16 Column 9 \\n', 'Semantic Bug bug in CodeBlock 2', 'Semantic Bug bug in CodeBlock 3']\n",
      "['Semantic BugCodeBlock at Line 16 Column 9 \\n', 'Semantic Bug bug in CodeBlock 2', 'Semantic Bug bug in CodeBlock 3']\n",
      "['Semantic BugCodeBlock at Line 16 Column 9 \\n', 'Semantic Bug bug in CodeBlock 2', 'Semantic Bug bug in CodeBlock 3']\n",
      "['Semantic BugCodeBlock at Line 16 Column 9 \\n', 'Semantic Bug bug in CodeBlock 2', 'Semantic Bug bug in CodeBlock 3']\n",
      "['Semantic BugCodeBlock at Line 16 Column 9 \\n', 'Semantic Bug bug in CodeBlock 2', 'Semantic Bug bug in CodeBlock 3']\n",
      "['Semantic BugCodeBlock at Line 16 Column 9 \\n', 'Semantic Bug bug in CodeBlock 2', 'Semantic Bug bug in CodeBlock 3']\n",
      "['Semantic BugCodeBlock at Line 16 Column 9 \\n', 'Semantic Bug bug in CodeBlock 2', 'Semantic Bug bug in CodeBlock 3']\n",
      "['Semantic BugCodeBlock at Line 16 Column 9 \\n', 'Semantic Bug bug in CodeBlock 2', 'Semantic Bug bug in CodeBlock 3']\n",
      "['Semantic BugCodeBlock at Line 16 Column 9 \\n', 'Semantic Bug bug in CodeBlock 2', 'Semantic Bug bug in CodeBlock 3']\n",
      "['Semantic BugCodeBlock at Line 16 Column 9 \\n', 'Semantic Bug bug in CodeBlock 2', 'Semantic Bug bug in CodeBlock 3']\n",
      "['Adaptive Refactor PossibleCodeBlock at Line 16 Column 9 \\n', 'Semantic Bug bug in CodeBlock 2', 'Semantic Bug bug in CodeBlock 3']\n",
      "['Semantic BugCodeBlock at Line 17 Column 9 \\n', 'Semantic Bug bug in CodeBlock 2', 'Semantic Bug bug in CodeBlock 3']\n",
      "['Adaptive Refactor PossibleCodeBlock at Line 16 Column 9 \\n', 'Semantic Bug bug in CodeBlock 2', 'Semantic Bug bug in CodeBlock 3']\n",
      "['Adaptive Refactor PossibleCodeBlock at Line 16 Column 9 \\n', 'Adaptive Refactor Possible bug in CodeBlock 2', 'Adaptive Refactor Possible bug in CodeBlock 3']\n",
      "['Adaptive Refactor PossibleCodeBlock at Line 16 Column 9 \\n', 'Adaptive Refactor Possible bug in CodeBlock 2', 'Adaptive Refactor Possible bug in CodeBlock 3']\n",
      "['Semantic BugCodeBlock at Line 1 Column 9 \\n', 'Semantic Bug bug in CodeBlock 2', 'Semantic Bug bug in CodeBlock 3']\n",
      "['Semantic BugCodeBlock at Line 1 Column 9 \\n', 'Semantic Bug bug in CodeBlock 2', 'Semantic Bug bug in CodeBlock 3']\n",
      "['Semantic BugCodeBlock at Line 1 Column 9 \\n', 'Semantic Bug bug in CodeBlock 2', 'Semantic Bug bug in CodeBlock 3']\n",
      "['Semantic BugCodeBlock at Line 1 Column 9 \\n', 'Semantic Bug bug in CodeBlock 2', 'Semantic Bug bug in CodeBlock 3']\n",
      "['Semantic BugCodeBlock at Line 1 Column 9 \\n', 'Semantic Bug bug in CodeBlock 2', 'Semantic Bug bug in CodeBlock 3']\n",
      "['Adaptive Refactor PossibleCodeBlock at Line 15 Column 12 \\n', 'Adaptive Refactor Possible bug in CodeBlock 2', 'Adaptive Refactor Possible bug in CodeBlock 3']\n",
      "['Adaptive Refactor PossibleCodeBlock at Line 15 Column 12 \\n', 'Adaptive Refactor Possible bug in CodeBlock 2', 'Adaptive Refactor Possible bug in CodeBlock 3']\n",
      "['Semantic BugCodeBlock at Line 16 Column 9 \\n', 'Semantic Bug bug in CodeBlock 2', 'Semantic Bug bug in CodeBlock 3']\n",
      "['Adaptive Refactor PossibleCodeBlock at Line 15 Column 12 \\n', 'Adaptive Refactor Possible bug in CodeBlock 2', 'Adaptive Refactor Possible bug in CodeBlock 3']\n",
      "['Adaptive Refactor PossibleCodeBlock at Line 15 Column 12 \\n', 'Adaptive Refactor Possible bug in CodeBlock 2', 'Adaptive Refactor Possible bug in CodeBlock 3']\n",
      "['Adaptive Refactor PossibleCodeBlock at Line 15 Column 12 \\n', 'Adaptive Refactor Possible bug in CodeBlock 2', 'Adaptive Refactor Possible bug in CodeBlock 3']\n",
      "['Semantic BugCodeBlock at Line 16 Column 9 \\n', 'Semantic Bug bug in CodeBlock 2', 'Semantic Bug bug in CodeBlock 3']\n",
      "['Adaptive Refactor PossibleCodeBlock at Line 16 Column 9 \\n', 'Adaptive Refactor Possible bug in CodeBlock 2', 'Adaptive Refactor Possible bug in CodeBlock 3']\n",
      "['Adaptive Refactor PossibleCodeBlock at Line 16 Column 9 \\n', 'Adaptive Refactor Possible bug in CodeBlock 2', 'Adaptive Refactor Possible bug in CodeBlock 3']\n",
      "['Adaptive Refactor PossibleCodeBlock at Line 16 Column 9 \\n', 'Adaptive Refactor Possible bug in CodeBlock 2', 'Adaptive Refactor Possible bug in CodeBlock 3']\n",
      "['Adaptive Refactor PossibleCodeBlock at Line 16 Column 9 \\n', 'Adaptive Refactor Possible bug in CodeBlock 2', 'Adaptive Refactor Possible bug in CodeBlock 3']\n",
      "['Semantic BugCodeBlock at Line 16 Column 9 \\n', 'Semantic Bug bug in CodeBlock 2', 'Semantic Bug bug in CodeBlock 3']\n",
      "['Semantic BugCodeBlock at Line 16 Column 9 \\n', 'Semantic Bug bug in CodeBlock 2', 'Semantic Bug bug in CodeBlock 3']\n",
      "['Perfective Refactor PossibleCodeBlock at Line 16 Column 9 \\n', 'Perfective Refactor Possible bug in CodeBlock 2']\n",
      "['Perfective Refactor PossibleCodeBlock at Line 16 Column 9 \\n', 'Perfective Refactor Possible bug in CodeBlock 2']\n",
      "['Semantic BugCodeBlock at Line 1 Column 9 \\n', 'Semantic Bug bug in CodeBlock 2', 'Semantic Bug bug in CodeBlock 3']\n",
      "['Semantic BugCodeBlock at Line 16 Column 9 \\n', 'Semantic Bug bug in CodeBlock 2']\n",
      "['Semantic BugCodeBlock at Line 16 Column 9 \\n', 'Semantic Bug bug in CodeBlock 2']\n",
      "['Semantic BugCodeBlock at Line 16 Column 9 \\n', 'Semantic Bug bug in CodeBlock 2']\n",
      "['Semantic BugCodeBlock at Line 16 Column 9 \\n', 'Semantic Bug bug in CodeBlock 2']\n",
      "['Semantic BugCodeBlock at Line 16 Column 9 \\n', 'Semantic Bug bug in CodeBlock 2']\n"
     ]
    },
    {
     "name": "stdout",
     "output_type": "stream",
     "text": [
      "['Semantic BugCodeBlock at Line 16 Column 9 \\n', 'Semantic Bug bug in CodeBlock 2']\n",
      "['Semantic BugCodeBlock at Line 16 Column 9 \\n', 'Semantic Bug bug in CodeBlock 2']\n",
      "['Semantic BugCodeBlock at Line 16 Column 9 \\n', 'Semantic Bug bug in CodeBlock 2', 'Semantic Bug bug in CodeBlock 3']\n",
      "['Semantic BugCodeBlock at Line 16 Column 9 \\n', 'Semantic Bug bug in CodeBlock 2', 'Semantic Bug bug in CodeBlock 3']\n",
      "['Semantic BugCodeBlock at Line 16 Column 9 \\n', 'Semantic Bug bug in CodeBlock 2', 'Semantic Bug bug in CodeBlock 3']\n",
      "['Semantic BugCodeBlock at Line 16 Column 9 \\n', 'Semantic Bug bug in CodeBlock 2', 'Semantic Bug bug in CodeBlock 3']\n",
      "['Semantic BugCodeBlock at Line 1 Column 9 \\n', 'Semantic Bug bug in CodeBlock 2', 'Semantic Bug bug in CodeBlock 3']\n",
      "['Semantic BugCodeBlock at Line 1 Column 9 \\n', 'Semantic Bug bug in CodeBlock 2', 'Semantic Bug bug in CodeBlock 3']\n",
      "['Semantic BugCodeBlock at Line 1 Column 9 \\n', 'Semantic Bug bug in CodeBlock 2', 'Semantic Bug bug in CodeBlock 3']\n",
      "['Adaptive Refactor PossibleCodeBlock at Line 16 Column 9 \\n', 'Semantic Bug bug in CodeBlock 2', 'Semantic Bug bug in CodeBlock 3']\n",
      "['Semantic BugCodeBlock at Line 1 Column 9 \\n', 'Semantic Bug bug in CodeBlock 2', 'Semantic Bug bug in CodeBlock 3']\n",
      "['Semantic BugCodeBlock at Line 1 Column 9 \\n', 'Semantic Bug bug in CodeBlock 2', 'Semantic Bug bug in CodeBlock 3']\n",
      "['Semantic BugCodeBlock at Line 1 Column 9 \\n', 'Semantic Bug bug in CodeBlock 2', 'Semantic Bug bug in CodeBlock 3']\n",
      "['Semantic BugCodeBlock at Line 1 Column 9 \\n', 'Semantic Bug bug in CodeBlock 2', 'Semantic Bug bug in CodeBlock 3']\n",
      "['Semantic BugCodeBlock at Line 1 Column 9 \\n', 'Semantic Bug bug in CodeBlock 2', 'Semantic Bug bug in CodeBlock 3']\n",
      "['Semantic BugCodeBlock at Line 1 Column 9 \\n', 'Semantic Bug bug in CodeBlock 2', 'Semantic Bug bug in CodeBlock 3']\n",
      "['Semantic BugCodeBlock at Line 1 Column 9 \\n', 'Semantic Bug bug in CodeBlock 2', 'Semantic Bug bug in CodeBlock 3']\n",
      "['Semantic BugCodeBlock at Line 1 Column 9 \\n', 'Semantic Bug bug in CodeBlock 2', 'Semantic Bug bug in CodeBlock 3']\n",
      "['Semantic BugCodeBlock at Line 1 Column 9 \\n', 'Semantic Bug bug in CodeBlock 2', 'Semantic Bug bug in CodeBlock 3']\n",
      "['Semantic BugCodeBlock at Line 1 Column 9 \\n', 'Semantic Bug bug in CodeBlock 2', 'Semantic Bug bug in CodeBlock 3']\n",
      "['Semantic BugCodeBlock at Line 1 Column 9 \\n', 'Semantic Bug bug in CodeBlock 2', 'Semantic Bug bug in CodeBlock 3']\n",
      "['Semantic BugCodeBlock at Line 1 Column 9 \\n', 'Semantic Bug bug in CodeBlock 2', 'Semantic Bug bug in CodeBlock 3']\n",
      "['Semantic BugCodeBlock at Line 18 Column 9 \\n', 'Semantic Bug bug in CodeBlock 2', 'Adaptive Refactor Possible bug in CodeBlock 3']\n",
      "['Adaptive Refactor PossibleCodeBlock at Line 18 Column 9 \\n', 'Adaptive Refactor Possible bug in CodeBlock 2', 'Adaptive Refactor Possible bug in CodeBlock 3']\n",
      "['Adaptive Refactor PossibleCodeBlock at Line 18 Column 9 \\n', 'Adaptive Refactor Possible bug in CodeBlock 2', 'Adaptive Refactor Possible bug in CodeBlock 3']\n",
      "['Semantic BugCodeBlock at Line 18 Column 9 \\n', 'Semantic Bug bug in CodeBlock 2', 'Adaptive Refactor Possible bug in CodeBlock 3']\n",
      "['Semantic BugCodeBlock at Line 16 Column 9 \\n', 'Semantic Bug bug in CodeBlock 2', 'Semantic Bug bug in CodeBlock 3']\n",
      "['Semantic BugCodeBlock at Line 16 Column 9 \\n', 'Semantic Bug bug in CodeBlock 2', 'Semantic Bug bug in CodeBlock 3']\n",
      "['Semantic BugCodeBlock at Line 16 Column 9 \\n', 'Semantic Bug bug in CodeBlock 2', 'Semantic Bug bug in CodeBlock 3']\n",
      "['Semantic BugCodeBlock at Line 16 Column 9 \\n', 'Semantic Bug bug in CodeBlock 2', 'Semantic Bug bug in CodeBlock 3']\n",
      "['Semantic BugCodeBlock at Line 16 Column 9 \\n', 'Semantic Bug bug in CodeBlock 2', 'Semantic Bug bug in CodeBlock 3']\n",
      "['Semantic BugCodeBlock at Line 16 Column 9 \\n', 'Semantic Bug bug in CodeBlock 2', 'Semantic Bug bug in CodeBlock 3']\n",
      "['Semantic BugCodeBlock at Line 16 Column 9 \\n', 'Semantic Bug bug in CodeBlock 2', 'Semantic Bug bug in CodeBlock 3']\n",
      "['Semantic BugCodeBlock at Line 16 Column 9 \\n', 'Semantic Bug bug in CodeBlock 2', 'Semantic Bug bug in CodeBlock 3']\n",
      "['Semantic BugCodeBlock at Line 16 Column 9 \\n', 'Semantic Bug bug in CodeBlock 2', 'Semantic Bug bug in CodeBlock 3']\n",
      "['Semantic BugCodeBlock at Line 16 Column 9 \\n', 'Semantic Bug bug in CodeBlock 2', 'Semantic Bug bug in CodeBlock 3']\n",
      "['Semantic BugCodeBlock at Line 16 Column 9 \\n', 'Semantic Bug bug in CodeBlock 2', 'Semantic Bug bug in CodeBlock 3']\n",
      "['Adaptive Refactor PossibleCodeBlock at Line 16 Column 9 \\n', 'Adaptive Refactor Possible bug in CodeBlock 2', 'Adaptive Refactor Possible bug in CodeBlock 3']\n",
      "['Adaptive Refactor PossibleCodeBlock at Line 16 Column 9 \\n', 'Adaptive Refactor Possible bug in CodeBlock 2', 'Adaptive Refactor Possible bug in CodeBlock 3']\n",
      "['Semantic BugCodeBlock at Line 16 Column 9 \\n', 'Semantic Bug bug in CodeBlock 2', 'Semantic Bug bug in CodeBlock 3']\n",
      "['Semantic BugCodeBlock at Line 16 Column 9 \\n', 'Semantic Bug bug in CodeBlock 2', 'Semantic Bug bug in CodeBlock 3']\n",
      "['Semantic BugCodeBlock at Line 16 Column 9 \\n', 'Semantic Bug bug in CodeBlock 2', 'Semantic Bug bug in CodeBlock 3']\n",
      "['Semantic BugCodeBlock at Line 16 Column 9 \\n', 'Semantic Bug bug in CodeBlock 2', 'Semantic Bug bug in CodeBlock 3']\n",
      "['Semantic BugCodeBlock at Line 1 Column 9 \\n', 'Semantic Bug bug in CodeBlock 2', 'Semantic Bug bug in CodeBlock 3']\n",
      "['Semantic BugCodeBlock at Line 1 Column 9 \\n', 'Semantic Bug bug in CodeBlock 2', 'Semantic Bug bug in CodeBlock 3']\n",
      "['Semantic BugCodeBlock at Line 1 Column 9 \\n', 'Semantic Bug bug in CodeBlock 2', 'Semantic Bug bug in CodeBlock 3']\n",
      "['Semantic BugCodeBlock at Line 1 Column 9 \\n', 'Semantic Bug bug in CodeBlock 2', 'Semantic Bug bug in CodeBlock 3']\n",
      "['Semantic BugCodeBlock at Line 1 Column 9 \\n', 'Semantic Bug bug in CodeBlock 2', 'Semantic Bug bug in CodeBlock 3']\n"
     ]
    }
   ],
   "source": [
    "for i in codes_to_try:\n",
    "    get_results(i)"
   ]
  },
  {
   "cell_type": "code",
   "execution_count": 57,
   "metadata": {},
   "outputs": [
    {
     "name": "stdout",
     "output_type": "stream",
     "text": [
      "['Semantic Bug bug in CodeBlock 1']\n"
     ]
    }
   ],
   "source": [
    "data = \"\"\"\n",
    "public class HelloWorld\n",
    "{\n",
    "\tpublic static void main(String[] args) {\n",
    "\t\tSystem.out.println(\"Hello World!\");\n",
    "\t}\n",
    "}\"\"\"\n",
    "get_results(data)"
   ]
  },
  {
   "cell_type": "code",
   "execution_count": 74,
   "metadata": {},
   "outputs": [
    {
     "name": "stdout",
     "output_type": "stream",
     "text": [
      "package org.rx.operations;\n",
      "\n",
      "import static org.junit.Assert.*;\n",
      "import static org.mockito.Matchers.*;\n",
      "import static org.mockito.Mockito.*;\n",
      "\n",
      "import java.util.concurrent.atomic.AtomicReference;\n",
      "\n",
      "import org.junit.Test;\n",
      "import org.mockito.Mockito;\n",
      "import org.rx.reactive.Observable;\n",
      "import org.rx.reactive.Observer;\n",
      "import org.rx.reactive.Subscription;\n",
      "\n",
      "public final class OperationOnErrorResumeNextViaObservable {\n",
      "\n",
      "    public static  Observable onErrorResumeNextViaObservable(Observable originalSequence, Observable resumeSequence) {\n",
      "        return new OnErrorResumeNextViaObservable(originalSequence, resumeSequence);\n",
      "    }\n",
      "\n",
      "    private static class OnErrorResumeNextViaObservable extends Observable {\n",
      "\n",
      "        private final Observable resumeSequence;\n",
      "        private final Observable originalSequence;\n",
      "\n",
      "        public OnErrorResumeNextViaObservable(Observable originalSequence, Observable resumeSequence) {\n",
      "            this.resumeSequence = resumeSequence;\n",
      "            this.originalSequence = originalSequence;\n",
      "        }\n",
      "\n",
      "        public Subscription subscribe(Observer Observer) {\n",
      "            final AtomicObservableSubscription subscription = new AtomicObservableSubscription();\n",
      "            final Observer observer = new AtomicObserver(Observer, subscription);\n",
      "\n",
      "            // AtomicReference since we'll be accessing/modifying this across threads so we can switch it if needed\n",
      "            final AtomicReference subscriptionRef = new AtomicReference(subscription);\n",
      "\n",
      "            // subscribe to the original Observable and remember the subscription\n",
      "            subscription.setActual(originalSequence.subscribe(new Observer() {\n",
      "                public void onNext(T value) {\n",
      "                    // forward the successful calls\n",
      "                    observer.onNext(value);\n",
      "                }\n",
      "\n",
      "                /**\n",
      "                 * Instead of passing the onError forward, we intercept and \"resume\" with the resumeSequence.\n",
      "                 */\n",
      "                public void onError(Exception ex) {\n",
      "                    /* remember what the current subscription is so we can determine if someone unsubscribes concurrently */\n",
      "                    AtomicObservableSubscription currentSubscription = subscriptionRef.get();\n",
      "                    // check that we have not been unsubscribed before we can process the error\n",
      "                    if (currentSubscription != null) {\n",
      "                        /* error occurred, so switch subscription to the 'resumeSequence' */\n",
      "                        AtomicObservableSubscription innerSubscription = new AtomicObservableSubscription(resumeSequence.subscribe(observer));\n",
      "                        /* we changed the sequence, so also change the subscription to the one of the 'resumeSequence' instead */\n",
      "                        if (!subscriptionRef.compareAndSet(currentSubscription, innerSubscription)) {\n",
      "                            // we failed to set which means 'subscriptionRef' was set to NULL via the unsubscribe below\n",
      "                            // so we want to immediately unsubscribe from the resumeSequence we just subscribed to\n",
      "                            innerSubscription.unsubscribe();\n",
      "                        }\n",
      "                    }\n",
      "                }\n",
      "\n",
      "                public void onCompleted() {\n",
      "                    // forward the successful calls\n",
      "                    observer.onCompleted();\n",
      "                }\n",
      "            }));\n",
      "\n",
      "            return new Subscription() {\n",
      "                public void unsubscribe() {\n",
      "                    // this will get either the original, or the resumeSequence one and unsubscribe on it\n",
      "                    Subscription s = subscriptionRef.getAndSet(null);\n",
      "                    if (s != null) {\n",
      "                        s.unsubscribe();\n",
      "                    }\n",
      "                }\n",
      "            };\n",
      "        }\n",
      "    }\n",
      "\n",
      "    public static class UnitTest {\n",
      "\n",
      "        @Test\n",
      "        public void testResumeNext() {\n",
      "            Subscription s = mock(Subscription.class);\n",
      "            TestObservable w = new TestObservable(s, \"one\");\n",
      "            Observable resume = Observable.toObservable(\"twoResume\", \"threeResume\");\n",
      "            Observable Observable = onErrorResumeNextViaObservable(w, resume);\n",
      "\n",
      "            @SuppressWarnings(\"unchecked\")\n",
      "            Observer aObserver = mock(Observer.class);\n",
      "            Observable.subscribe(aObserver);\n",
      "\n",
      "            try {\n",
      "                w.t.join();\n",
      "            } catch (InterruptedException e) {\n",
      "                fail(e.getMessage());\n",
      "            }\n",
      "\n",
      "            verify(aObserver, Mockito.never()).onError(any(Exception.class));\n",
      "            verify(aObserver, times(1)).onCompleted();\n",
      "            verify(aObserver, times(1)).onNext(\"one\");\n",
      "            verify(aObserver, Mockito.never()).onNext(\"two\");\n",
      "            verify(aObserver, Mockito.never()).onNext(\"three\");\n",
      "            verify(aObserver, times(1)).onNext(\"twoResume\");\n",
      "            verify(aObserver, times(1)).onNext(\"threeResume\");\n",
      "\n",
      "        }\n",
      "\n",
      "        private static class TestObservable extends Observable {\n",
      "\n",
      "            final Subscription s;\n",
      "            final String[] values;\n",
      "            Thread t = null;\n",
      "\n",
      "            public TestObservable(Subscription s, String... values) {\n",
      "                this.s = s;\n",
      "                this.values = values;\n",
      "            }\n",
      "\n",
      "            @Override\n",
      "            public Subscription subscribe(final Observer observer) {\n",
      "                System.out.println(\"TestObservable subscribed to ...\");\n",
      "                t = new Thread(new Runnable() {\n",
      "\n",
      "                    @Override\n",
      "                    public void run() {\n",
      "                        try {\n",
      "                            System.out.println(\"running TestObservable thread\");\n",
      "                            for (String s : values) {\n",
      "                                System.out.println(\"TestObservable onNext: \" + s);\n",
      "                                observer.onNext(s);\n",
      "                            }\n",
      "                            throw new RuntimeException(\"Forced Failure\");\n",
      "                        } catch (Exception e) {\n",
      "                            observer.onError(e);\n",
      "                        }\n",
      "                    }\n",
      "\n",
      "                });\n",
      "                System.out.println(\"starting TestObservable thread\");\n",
      "                t.start();\n",
      "                System.out.println(\"done starting TestObservable thread\");\n",
      "                return s;\n",
      "            }\n",
      "\n",
      "        }\n",
      "    }\n",
      "}\n"
     ]
    }
   ],
   "source": [
    "print(codes_to_try[80])"
   ]
  },
  {
   "cell_type": "code",
   "execution_count": null,
   "metadata": {},
   "outputs": [],
   "source": []
  },
  {
   "cell_type": "code",
   "execution_count": null,
   "metadata": {},
   "outputs": [],
   "source": []
  }
 ],
 "metadata": {
  "kernelspec": {
   "display_name": "Python 3",
   "language": "python",
   "name": "python3"
  },
  "language_info": {
   "codemirror_mode": {
    "name": "ipython",
    "version": 3
   },
   "file_extension": ".py",
   "mimetype": "text/x-python",
   "name": "python",
   "nbconvert_exporter": "python",
   "pygments_lexer": "ipython3",
   "version": "3.6.5"
  }
 },
 "nbformat": 4,
 "nbformat_minor": 2
}
