{
 "cells": [
  {
   "cell_type": "code",
   "execution_count": 3,
   "metadata": {},
   "outputs": [
    {
     "name": "stdout",
     "output_type": "stream",
     "text": [
      "<pd_doc2vec.doc2vec object at 0x7f4f802abc88>\n"
     ]
    }
   ],
   "source": [
    "def do_ml(code):\n",
    "\n",
    "    message = \"\"\n",
    "    import javalang\n",
    "    import pandas as pd\n",
    "    from pd_doc2vec import doc2vec\n",
    "    try:\n",
    "        import cPickle as pickle\n",
    "    except ModuleNotFoundError:\n",
    "        import pickle\n",
    "\n",
    "\n",
    "    with open('model.pkl', 'rb') as input:\n",
    "        x = pickle.load(input)\n",
    "        print(x)\n",
    "    try:\n",
    "            tree = javalang.parse.parse(source_code)\n",
    "            for codeblock in tree.children:\n",
    "                result = x.predict_text_main(codeblock)\n",
    "                if result == \"c\":\n",
    "                    message = message + \"Bug in CodeBlock at Line \" + str(codeblock._position.line) + \" Column \" + str(codeblock._position.column) + \" \\n\"\n",
    "                \n",
    "    except (javalang.parser.JavaSyntaxError, KeyError) as e:\n",
    "        message = message + str(e)\n",
    "        "
   ]
  },
  {
   "cell_type": "code",
   "execution_count": null,
   "metadata": {},
   "outputs": [],
   "source": []
  }
 ],
 "metadata": {
  "kernelspec": {
   "display_name": "Python 3",
   "language": "python",
   "name": "python3"
  },
  "language_info": {
   "codemirror_mode": {
    "name": "ipython",
    "version": 3
   },
   "file_extension": ".py",
   "mimetype": "text/x-python",
   "name": "python",
   "nbconvert_exporter": "python",
   "pygments_lexer": "ipython3",
   "version": "3.6.5"
  }
 },
 "nbformat": 4,
 "nbformat_minor": 2
}
